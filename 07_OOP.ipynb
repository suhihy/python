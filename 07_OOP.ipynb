{
 "cells": [
  {
   "cell_type": "markdown",
   "id": "56231cb1-72e3-481f-87d1-0b51ae95df20",
   "metadata": {},
   "source": [
    "# 객체지향 프로그래밍(OOP)"
   ]
  },
  {
   "cell_type": "markdown",
   "id": "8e516e84-3f36-4079-8b5a-98db5a0ab038",
   "metadata": {},
   "source": [
    "- 클래스(class) : 같은 종류의 집단에 속하는 속성(attribute)과 행위(method)를 정의한 것 ex) 붕어빵 틀\n",
    "- 인스턴스(instance) : 클래스를 실제로 메모리 상에 할당한 것 ex) 붕어빵\n",
    "- 속성(attribute) : 클래스/인스턴스가 가지고 있는 데이터/값\n",
    "- 행위(method) : 클래스/인스턴스가 가지고 있는 함수/기능"
   ]
  },
  {
   "cell_type": "code",
   "execution_count": 2,
   "id": "aa90cb86-bdd3-46b2-8652-d2372ec969a7",
   "metadata": {},
   "outputs": [],
   "source": [
    "number = 1 + 2j"
   ]
  },
  {
   "cell_type": "code",
   "execution_count": 3,
   "id": "688752c7-abfa-4f5c-a0cc-a1122d0065f4",
   "metadata": {},
   "outputs": [
    {
     "data": {
      "text/plain": [
       "complex"
      ]
     },
     "execution_count": 3,
     "metadata": {},
     "output_type": "execute_result"
    }
   ],
   "source": [
    "type(number)"
   ]
  },
  {
   "cell_type": "code",
   "execution_count": 6,
   "id": "7e8f850b-8de7-413b-b23f-de7e746eb28c",
   "metadata": {},
   "outputs": [
    {
     "name": "stdout",
     "output_type": "stream",
     "text": [
      "1.0\n",
      "2.0\n"
     ]
    }
   ],
   "source": [
    "print(number.real)  #앞에 있는 숫자 1 가지고 옴\n",
    "print(number.imag)  #뒤에 있는 문자 안에 있는 숫자 2"
   ]
  },
  {
   "cell_type": "code",
   "execution_count": 7,
   "id": "300eba58-db02-4512-823d-70208dfab11c",
   "metadata": {},
   "outputs": [
    {
     "data": {
      "text/plain": [
       "list"
      ]
     },
     "execution_count": 7,
     "metadata": {},
     "output_type": "execute_result"
    }
   ],
   "source": [
    "numbers = [1, 2, 3]\n",
    "type(numbers)"
   ]
  },
  {
   "cell_type": "code",
   "execution_count": 12,
   "id": "2482acb4-86f1-4586-9160-5a08869fb245",
   "metadata": {},
   "outputs": [
    {
     "name": "stdout",
     "output_type": "stream",
     "text": [
      "[3, 2, 1]\n"
     ]
    }
   ],
   "source": [
    "numbers.reverse()  #() -> 함수 실행 : method\n",
    "print(numbers)"
   ]
  },
  {
   "cell_type": "code",
   "execution_count": 14,
   "id": "988dc4db-921c-495d-acc8-981ea9f43546",
   "metadata": {},
   "outputs": [
    {
     "name": "stdout",
     "output_type": "stream",
     "text": [
      "010-1234-1234에서 010-4567-4567로 전화하는 중\n"
     ]
    }
   ],
   "source": [
    "power = False\n",
    "number_hong = '010-1234-1234'\n",
    "book = {\n",
    "    'kim' : '010-4567-4567',\n",
    "    'park' : '010-2345-2345',\n",
    "}\n",
    "\n",
    "def call(from_number, to_number):\n",
    "    print(f'{from_number}에서 {to_number}로 전화하는 중')\n",
    "\n",
    "call(number, book['kim'])"
   ]
  },
  {
   "cell_type": "code",
   "execution_count": 15,
   "id": "011ff0a6-78e2-43ad-bd9f-2b9c1f7238c5",
   "metadata": {},
   "outputs": [],
   "source": [
    "number_kim = '010-4567-4567'"
   ]
  },
  {
   "cell_type": "markdown",
   "id": "a9b7df84-c591-411e-b1eb-5fa9c4bd24d4",
   "metadata": {},
   "source": [
    "## class\n",
    "\n",
    "- 클래스 선언  #class이름은 CamelClass 등 대문자로 표기 / 변수 이름은 snake_class (_)로 표기\n",
    "```python\n",
    "class ClassName():\n",
    "    attribute = value\n",
    "\n",
    "    def method_name1(self):\n",
    "        code\n",
    "\n",
    "    def method_name2(self):\n",
    "        code\n",
    "\n",
    "    ...\n",
    "```\n",
    "\n",
    "- 인스턴스화(클래스 실행)\n",
    "```python\n",
    "c = ClassName()\n",
    "```"
   ]
  },
  {
   "cell_type": "code",
   "execution_count": 22,
   "id": "ceac91d2-c85a-4161-9e61-bfad96517fb5",
   "metadata": {},
   "outputs": [],
   "source": [
    "#선언\n",
    "class MyClass():\n",
    "    name = 'kim'\n",
    "\n",
    "    def hello(self):\n",
    "        return 'hello'"
   ]
  },
  {
   "cell_type": "code",
   "execution_count": 23,
   "id": "09efa67c-99f4-4ad5-8247-08b4ba2cbc55",
   "metadata": {},
   "outputs": [
    {
     "name": "stdout",
     "output_type": "stream",
     "text": [
      "<__main__.MyClass object at 0x000001EEBB3BBB30>\n",
      "<class '__main__.MyClass'>\n"
     ]
    }
   ],
   "source": [
    "#인스턴스화\n",
    "m = MyClass()\n",
    "print(m)\n",
    "print(type(m))"
   ]
  },
  {
   "cell_type": "code",
   "execution_count": 24,
   "id": "93a7d0b5-4bcd-43c5-a9c0-4ee6be78b1e1",
   "metadata": {},
   "outputs": [
    {
     "name": "stdout",
     "output_type": "stream",
     "text": [
      "kim\n"
     ]
    }
   ],
   "source": [
    "print(m.name)"
   ]
  },
  {
   "cell_type": "code",
   "execution_count": 26,
   "id": "59fbb33f-1e43-4fdf-97bd-6538e8f7ba83",
   "metadata": {},
   "outputs": [
    {
     "name": "stdout",
     "output_type": "stream",
     "text": [
      "hello\n"
     ]
    }
   ],
   "source": [
    "print(m.hello())"
   ]
  },
  {
   "cell_type": "code",
   "execution_count": 27,
   "id": "47f8a0bf-727d-4b5a-b04b-66c5e5789278",
   "metadata": {},
   "outputs": [
    {
     "name": "stdout",
     "output_type": "stream",
     "text": [
      "<__main__.MyClass object at 0x000001EEBB3B9490>\n"
     ]
    }
   ],
   "source": [
    "m2 = MyClass()\n",
    "print(m2)"
   ]
  },
  {
   "cell_type": "code",
   "execution_count": 30,
   "id": "b8ca7b49-07ce-4a1d-9a49-0975e75fe75a",
   "metadata": {},
   "outputs": [
    {
     "name": "stdout",
     "output_type": "stream",
     "text": [
      "park\n",
      "hello\n"
     ]
    }
   ],
   "source": [
    "m2.name = 'park'\n",
    "print(m2.name)\n",
    "print(m2.hello())"
   ]
  },
  {
   "cell_type": "code",
   "execution_count": 60,
   "id": "ff00d051-e885-48b4-b6aa-78faa56050c0",
   "metadata": {},
   "outputs": [],
   "source": [
    "#핸드폰 정의\n",
    "\n",
    "class Phone():\n",
    "    power = False                #bool\n",
    "    number = '010-0000-0000'     #int\n",
    "    book = {}                    #dict\n",
    "    model = ''                   #str\n",
    "\n",
    "    def on(self):\n",
    "        if self.power == False:\n",
    "            self.power = True\n",
    "            \n",
    "    def off(self):\n",
    "        if self.power == True:\n",
    "            self.power = False\n",
    "            \n",
    "    def call(self, target):\n",
    "        if self.power == True:\n",
    "            print(f'{self.number}에서 {target}로 전화거는 중.')\n",
    "        else:\n",
    "            print('핸드폰이 꺼져있습니다')\n",
    "            "
   ]
  },
  {
   "cell_type": "code",
   "execution_count": 61,
   "id": "0096f725-0210-42e1-8383-4b9a65e96c85",
   "metadata": {},
   "outputs": [],
   "source": [
    "my_phone = Phone()\n",
    "your_phone = Phone()"
   ]
  },
  {
   "cell_type": "code",
   "execution_count": 62,
   "id": "72b32866-8d4d-4f66-b078-5bb2dc456f84",
   "metadata": {},
   "outputs": [
    {
     "name": "stdout",
     "output_type": "stream",
     "text": [
      "010-1234-1234\n"
     ]
    }
   ],
   "source": [
    "my_phone.number = '010-1234-1234'\n",
    "print(my_phone.number)"
   ]
  },
  {
   "cell_type": "code",
   "execution_count": 63,
   "id": "4afbd292-51af-45b5-8d86-5dc3fea34dd5",
   "metadata": {},
   "outputs": [
    {
     "name": "stdout",
     "output_type": "stream",
     "text": [
      "010-5678-5678\n"
     ]
    }
   ],
   "source": [
    "your_phone.number = '010-5678-5678'\n",
    "print(your_phone.number)"
   ]
  },
  {
   "cell_type": "code",
   "execution_count": 64,
   "id": "0e52074e-2d7b-49cd-bb9a-41e54141cffb",
   "metadata": {},
   "outputs": [
    {
     "name": "stdout",
     "output_type": "stream",
     "text": [
      "핸드폰이 꺼져있습니다\n"
     ]
    }
   ],
   "source": [
    "my_phone.call(your_phone.number)"
   ]
  },
  {
   "cell_type": "code",
   "execution_count": 65,
   "id": "0c2ec71f-c228-42af-be75-f8cad8a38684",
   "metadata": {},
   "outputs": [],
   "source": [
    "my_phone.on()"
   ]
  },
  {
   "cell_type": "code",
   "execution_count": 66,
   "id": "6300882b-8025-47dd-8a1b-8716be55b6e9",
   "metadata": {},
   "outputs": [
    {
     "name": "stdout",
     "output_type": "stream",
     "text": [
      "010-1234-1234에서 010-5678-5678로 전화거는 중.\n",
      "010-1234-1234에서 112로 전화거는 중.\n"
     ]
    }
   ],
   "source": [
    "my_phone.call(your_phone.number)\n",
    "my_phone.call('112')"
   ]
  },
  {
   "cell_type": "code",
   "execution_count": 68,
   "id": "c51861cf-2ba1-4880-975d-1aba1c5e7e5d",
   "metadata": {},
   "outputs": [
    {
     "name": "stdout",
     "output_type": "stream",
     "text": [
      "010-5678-5678에서 119로 전화거는 중.\n"
     ]
    }
   ],
   "source": [
    "your_phone.on()\n",
    "your_phone.call('119')"
   ]
  },
  {
   "cell_type": "code",
   "execution_count": 187,
   "id": "9f1e95a2-e219-4871-bf3e-e574230c4cf7",
   "metadata": {},
   "outputs": [
    {
     "name": "stdout",
     "output_type": "stream",
     "text": [
      "True\n"
     ]
    }
   ],
   "source": [
    "Third_phone = Phone()\n",
    "Phone.on(Third_phone)\n",
    "print(Third_phone.power)"
   ]
  },
  {
   "cell_type": "code",
   "execution_count": 185,
   "id": "ccb191cd-d3e4-4ea5-a20f-4e4fd2ab3d1e",
   "metadata": {},
   "outputs": [],
   "source": [
    "#\n",
    "class MyList():\n",
    "    data = []\n",
    "\n",
    "    def append(self, target):\n",
    "        #self.data.append(target)\n",
    "        self.data = self.data + [target]\n",
    "\n",
    "    def pop(self):\n",
    "        reult = self.data[-1]\n",
    "        self.data = self.data[:-1]"
   ]
  },
  {
   "cell_type": "code",
   "execution_count": 174,
   "id": "143bd763-310e-4e61-b7b4-046886544cc4",
   "metadata": {},
   "outputs": [
    {
     "name": "stdout",
     "output_type": "stream",
     "text": [
      "[]\n",
      "[5]\n",
      "[5, 10]\n",
      "[5]\n"
     ]
    }
   ],
   "source": [
    "list_a = MyList()\n",
    "\n",
    "print(list_a.data) # -> []\n",
    "\n",
    "list_a.append(5)\n",
    "print(list_a.data) # -> [5]\n",
    "list_a.append(10)\n",
    "print(list_a.data) # -> [5, 10]\n",
    "\n",
    "list_a.pop()\n",
    "print(list_a.data) # -> [5]"
   ]
  },
  {
   "cell_type": "code",
   "execution_count": 177,
   "id": "cf7f0476-5790-4c11-83eb-7a775f9abd05",
   "metadata": {},
   "outputs": [
    {
     "name": "stdout",
     "output_type": "stream",
     "text": [
      "['일', '이', '삼']\n"
     ]
    }
   ],
   "source": [
    "list_b = MyList()\n",
    "\n",
    "list_b.append('일')\n",
    "list_b.append('이')\n",
    "list_b.append('삼')\n",
    "print(list_b.data)"
   ]
  },
  {
   "cell_type": "markdown",
   "id": "7bb74486-dbfe-4cb2-9ef2-07a25ea309da",
   "metadata": {},
   "source": [
    "## 생성자, 소멸자\n",
    "\n",
    "```python\n",
    "class MyClass():\n",
    "\n",
    "    def __init__(self):  #객체 안에 필요한 데이터 넣고자 할 때 사용\n",
    "        pass\n",
    "\n",
    "    def __del__(self):   #\n",
    "        pass\n",
    "```"
   ]
  },
  {
   "cell_type": "code",
   "execution_count": 257,
   "id": "5d7ee7c1-a36f-4169-901e-ba2be3c7a5f0",
   "metadata": {},
   "outputs": [],
   "source": [
    "class Person():\n",
    "    name = ''  #-> blank는 의미 없음\n",
    "\n",
    "    def __init__(self, name='익명'):  #생성자 함수\n",
    "        self.name = name        #각각의 instance => self: 함수를 실행하는 주체\n",
    "        print('생성됨')          # name='익명입니다' -> 기본값 설정\n",
    "        \n",
    "    def __del__(self):    #소멸자 함수\n",
    "        print('소멸됨')"
   ]
  },
  {
   "cell_type": "code",
   "execution_count": 258,
   "id": "7e8607a2-b1b2-472a-9ce4-6bc7c33ccf23",
   "metadata": {},
   "outputs": [
    {
     "name": "stdout",
     "output_type": "stream",
     "text": [
      "생성됨\n",
      "소멸됨\n",
      "kim\n"
     ]
    }
   ],
   "source": [
    "p1 = Person('kim')\n",
    "print(p1.name)"
   ]
  },
  {
   "cell_type": "code",
   "execution_count": 259,
   "id": "c9bab50c-36bf-416f-a92e-2d3fe7ea2612",
   "metadata": {},
   "outputs": [
    {
     "name": "stdout",
     "output_type": "stream",
     "text": [
      "생성됨\n",
      "익명\n"
     ]
    }
   ],
   "source": [
    "p2 = Person()\n",
    "print(p2.name)"
   ]
  },
  {
   "cell_type": "code",
   "execution_count": 260,
   "id": "aa4e3fed-9887-4ac4-b129-df24b417cedc",
   "metadata": {},
   "outputs": [
    {
     "name": "stdout",
     "output_type": "stream",
     "text": [
      "소멸됨\n"
     ]
    }
   ],
   "source": [
    "del p2  #del 먼저 실행 그리고 그 다음에 트리거로 __del__ 함수 실행 '소멸됨' print"
   ]
  },
  {
   "cell_type": "code",
   "execution_count": 5,
   "id": "37633b82-b447-44a9-b93a-46270eb9b30c",
   "metadata": {},
   "outputs": [],
   "source": [
    "#\n",
    "class Circle():\n",
    "    pi = 3.14\n",
    "\n",
    "    def __init__(self, r, x=0, y=0):\n",
    "        self.r = r\n",
    "        self.x = x\n",
    "        self.y = y\n",
    "\n",
    "    def area(self):\n",
    "        return self.pi * self.r ** 2\n",
    "\n",
    "    def center(self):\n",
    "        return (self.x, self.y)\n",
    "\n",
    "    def move(self, x, y):\n",
    "        self.x = x\n",
    "        self.y = y\n",
    "        print(f'원의 중심이 {x}, {y}로 이동했습니다.')\n",
    "\n",
    "    def round(self):\n",
    "        return self.r * self.pi * 2"
   ]
  },
  {
   "cell_type": "code",
   "execution_count": 6,
   "id": "92d137f1-21fa-4639-9470-9982e2864e3d",
   "metadata": {},
   "outputs": [],
   "source": [
    "c1 = Circle(5)\n",
    "c2 = Circle(10, 3, 3)"
   ]
  },
  {
   "cell_type": "code",
   "execution_count": 7,
   "id": "153e8fcf-b0c0-4445-99c1-aadbb5fb18e9",
   "metadata": {},
   "outputs": [
    {
     "name": "stdout",
     "output_type": "stream",
     "text": [
      "78.5\n"
     ]
    }
   ],
   "source": [
    "print(c1.area())"
   ]
  },
  {
   "cell_type": "code",
   "execution_count": 8,
   "id": "dd8092a6-6143-4f80-ad79-3e00075f422f",
   "metadata": {},
   "outputs": [
    {
     "name": "stdout",
     "output_type": "stream",
     "text": [
      "(0, 0)\n",
      "(3, 3)\n"
     ]
    }
   ],
   "source": [
    "print(c1.center())\n",
    "print(c2.center())"
   ]
  },
  {
   "cell_type": "code",
   "execution_count": 9,
   "id": "8b512b68-c8de-42b8-b7fa-7abf0da00c37",
   "metadata": {},
   "outputs": [
    {
     "name": "stdout",
     "output_type": "stream",
     "text": [
      "원의 중심이 1, 2로 이동했습니다.\n",
      "None\n",
      "원의 중심이 8, 3로 이동했습니다.\n",
      "None\n"
     ]
    }
   ],
   "source": [
    "print(c1.move(1,2))\n",
    "print(c2.move(8,3))"
   ]
  },
  {
   "cell_type": "code",
   "execution_count": 10,
   "id": "93b2a507-5e34-431a-a91e-582010438436",
   "metadata": {},
   "outputs": [
    {
     "name": "stdout",
     "output_type": "stream",
     "text": [
      "(1, 2)\n",
      "(8, 3)\n"
     ]
    }
   ],
   "source": [
    "print(c1.center())\n",
    "print(c2.center())"
   ]
  },
  {
   "cell_type": "code",
   "execution_count": 11,
   "id": "92a04225-ee98-4289-82fc-bf7f66b2e767",
   "metadata": {},
   "outputs": [
    {
     "name": "stdout",
     "output_type": "stream",
     "text": [
      "31.400000000000002\n",
      "62.800000000000004\n"
     ]
    }
   ],
   "source": [
    "print(c1.round())\n",
    "print(c2.round())"
   ]
  },
  {
   "cell_type": "code",
   "execution_count": 341,
   "id": "6ea3c5fd-63ed-489b-afa9-aef115fc985f",
   "metadata": {},
   "outputs": [],
   "source": [
    "class Point():\n",
    "\n",
    "    def __init__(self, x, y):\n",
    "        self.x = x\n",
    "        self.y = y\n",
    "\n",
    "    def info(self):\n",
    "        return (self.x, self.y)"
   ]
  },
  {
   "cell_type": "code",
   "execution_count": 347,
   "id": "748a83e6-7e7e-4e0f-aaee-a91e7c377dd6",
   "metadata": {},
   "outputs": [],
   "source": [
    "class Circle():\n",
    "\n",
    "    def __init__(self, point, r):\n",
    "        self.point = point\n",
    "        self.r = r\n",
    "\n",
    "    def info(self):\n",
    "        return (self.point.x, self.point.y, self.r)\n",
    "\n",
    "    def move(self, x, y):\n",
    "        self.point.x = x\n",
    "        self.point.y = y"
   ]
  },
  {
   "cell_type": "code",
   "execution_count": 348,
   "id": "e9f0901f-ab15-460d-a62c-a1014629300c",
   "metadata": {},
   "outputs": [
    {
     "name": "stdout",
     "output_type": "stream",
     "text": [
      "(1, 2)\n"
     ]
    }
   ],
   "source": [
    "p1 = Point(1, 2)\n",
    "print(p1.info())"
   ]
  },
  {
   "cell_type": "code",
   "execution_count": 349,
   "id": "8ea59afa-b310-4025-8563-ccc3aef94af5",
   "metadata": {},
   "outputs": [
    {
     "name": "stdout",
     "output_type": "stream",
     "text": [
      "(1, 2, 6)\n"
     ]
    }
   ],
   "source": [
    "c1 = Circle(p1, 6)   #class도 변수로 할당해 집어넣을 수 있다\n",
    "print(c1.info())"
   ]
  },
  {
   "cell_type": "code",
   "execution_count": 350,
   "id": "25e33265-4d5e-4c91-9b56-dcfa48280ffd",
   "metadata": {},
   "outputs": [
    {
     "name": "stdout",
     "output_type": "stream",
     "text": [
      "(5, 5, 6)\n"
     ]
    }
   ],
   "source": [
    "c1.move(5, 5)\n",
    "print(c1.info())"
   ]
  },
  {
   "cell_type": "markdown",
   "id": "fc11eb38-f066-48b9-ae7c-f0e4264391ae",
   "metadata": {},
   "source": [
    "## 클래스 변수\n",
    "- 클래스 선언 블록 최상단에 위치\n",
    "\n",
    "### 인스턴스 변수\n",
    "- 인스턴스 내부에서 생성한 변수 ( 'self.variable = ' )\n",
    "\n",
    "```python\n",
    "class MyClass():\n",
    "    class_variable = '클래스 변수'\n",
    "\n",
    "    def __init__(self):\n",
    "        self.instance_variable = '인스턴스 변수'\n"
   ]
  },
  {
   "cell_type": "code",
   "execution_count": 354,
   "id": "29dec85a-c287-4670-94a8-5d5e626a377c",
   "metadata": {},
   "outputs": [],
   "source": [
    "class Person():\n",
    "    name = '홍길동'  #-> 클래스 변수\n",
    "    phone = '010-2345-2345'\n",
    "\n",
    "    def __init__(self, name):\n",
    "        self.name = name   #-> 인스턴스 변수"
   ]
  },
  {
   "cell_type": "code",
   "execution_count": 358,
   "id": "30bcebfe-ae35-4410-9316-b101844323c4",
   "metadata": {},
   "outputs": [
    {
     "name": "stdout",
     "output_type": "stream",
     "text": [
      "010-2345-2345\n",
      "오창희\n"
     ]
    }
   ],
   "source": [
    "p1 = Person('오창희')\n",
    "print(p1.phone)\n",
    "print(p1.name)"
   ]
  },
  {
   "cell_type": "markdown",
   "id": "8628b818-4652-4570-ac13-8b387adb3169",
   "metadata": {},
   "source": [
    "### 클래스 메소드, 인스턴스 메소드, 스택틱 메소드\n",
    "\n",
    "```python\n",
    "class MyClass():\n",
    "    def instance_method(self):\n",
    "        pass\n",
    "\n",
    "    @classmethod\n",
    "    def class_method(cls):\n",
    "        pass\n",
    "        \n",
    "    @staticmethod\n",
    "    def static_method():\n",
    "        pass\n",
    "```"
   ]
  },
  {
   "cell_type": "code",
   "execution_count": 359,
   "id": "368ec646-df8f-4c77-b7d6-3f161a4980a1",
   "metadata": {},
   "outputs": [],
   "source": [
    "class MyClass():\n",
    "\n",
    "    def instance_method(self):\n",
    "        return self\n",
    "\n",
    "    @classmethod\n",
    "    def class_method(cls):\n",
    "        return cls\n",
    "        \n",
    "    @staticmethod\n",
    "    def static_method():\n",
    "        return 'hello'"
   ]
  },
  {
   "cell_type": "code",
   "execution_count": 362,
   "id": "3dcaf06a-583d-4423-8eb3-961392fedb45",
   "metadata": {},
   "outputs": [
    {
     "name": "stdout",
     "output_type": "stream",
     "text": [
      "<__main__.MyClass object at 0x000001EEBB5129F0>\n",
      "<bound method MyClass.class_method of <class '__main__.MyClass'>>\n"
     ]
    }
   ],
   "source": [
    "c1 = MyClass()\n",
    "\n",
    "print(c1.instance_method()) #-> self 출력(인스턴스 자체)\n",
    "print(MyClass.class_method) #-> cls 출력(class의 정의)"
   ]
  },
  {
   "cell_type": "code",
   "execution_count": 375,
   "id": "4cdea71a-9a92-49f8-804f-aceaa2d1dc3e",
   "metadata": {},
   "outputs": [],
   "source": [
    "class Puppy():\n",
    "    num_of_puppy = 0\n",
    "\n",
    "    def __init__(self, name):\n",
    "        self.name = name\n",
    "        Puppy.num_of_puppy += 1\n",
    "\n",
    "    @classmethod\n",
    "    def get_status(cls):\n",
    "        print(f'현재 강아지는 {cls.num_of_puppy}마리입니다.')\n",
    "\n",
    "    @staticmethod     #-> 인스턴스 변수, 클래스 변수 필요없음.\n",
    "    def bark():\n",
    "        print('멍멍')\n",
    "\n",
    "    def bark2(self):\n",
    "        print(f'내 이름은 {self.name}야. 멍멍.')"
   ]
  },
  {
   "cell_type": "code",
   "execution_count": 377,
   "id": "cccc6491-58c8-4bb1-b7cf-e0577ce11c19",
   "metadata": {},
   "outputs": [
    {
     "name": "stdout",
     "output_type": "stream",
     "text": [
      "현재 강아지는 6마리입니다.\n",
      "멍멍\n",
      "내 이름은 초코야. 멍멍.\n",
      "내 이름은 인절미야. 멍멍.\n"
     ]
    }
   ],
   "source": [
    "p1 = Puppy('초코')\n",
    "p2 = Puppy('인절미')\n",
    "p3 = Puppy('별이')\n",
    "\n",
    "Puppy.get_status() #-> class에 있는 변수 다룰때\n",
    "\n",
    "p1.bark()\n",
    "p1.bark2()\n",
    "p2.bark2()"
   ]
  },
  {
   "cell_type": "markdown",
   "id": "e56a4681-da6f-4da7-933f-339da18c4aea",
   "metadata": {},
   "source": [
    "## 상속"
   ]
  },
  {
   "cell_type": "code",
   "execution_count": 378,
   "id": "598fdfc2-1a6b-4aeb-bd9a-ebd837e72870",
   "metadata": {},
   "outputs": [],
   "source": [
    "class Person():\n",
    "    ident = '111111-1111111'\n",
    "\n",
    "    def __init__(self, name):\n",
    "        self.name = name\n",
    "\n",
    "    def greeting(self):\n",
    "        print(f'안녕하세요. 저는 {self.name}입니다.')"
   ]
  },
  {
   "cell_type": "code",
   "execution_count": 379,
   "id": "5d41bbb8-3b79-497a-871a-4d832d9df930",
   "metadata": {},
   "outputs": [],
   "source": [
    "p1 = Person('홍길동')\n",
    "p2 = Person('이순신')"
   ]
  },
  {
   "cell_type": "code",
   "execution_count": 380,
   "id": "1c02bf1d-3b50-446b-a5dc-3c8d2530a257",
   "metadata": {},
   "outputs": [
    {
     "name": "stdout",
     "output_type": "stream",
     "text": [
      "안녕하세요. 저는 홍길동입니다.\n",
      "안녕하세요. 저는 이순신입니다.\n"
     ]
    }
   ],
   "source": [
    "p1.greeting()\n",
    "p2.greeting()"
   ]
  },
  {
   "cell_type": "code",
   "execution_count": 382,
   "id": "e9a80e95-4036-4bab-8532-3940366671d5",
   "metadata": {},
   "outputs": [],
   "source": [
    "class Soldier(Person):\n",
    "    #ident = '111111-1111111'\n",
    "\n",
    "    #def __init__(self, name):\n",
    "        #self.name = name\n",
    "\n",
    "    def greeting(self):\n",
    "        print(f'충성!! {self.name}입니다.')"
   ]
  },
  {
   "cell_type": "code",
   "execution_count": 388,
   "id": "90b597d3-f908-4152-b55e-000514eb0346",
   "metadata": {},
   "outputs": [
    {
     "name": "stdout",
     "output_type": "stream",
     "text": [
      "충성!! 국방이입니다.\n"
     ]
    }
   ],
   "source": [
    "s1 = Soldier('국방이')\n",
    "s1.greeting()  #-> 이름이 똑같은 함수를 아래 자식에서 재정의하면 overwritng - 가까운 게 먼저 실행됨"
   ]
  },
  {
   "cell_type": "code",
   "execution_count": 389,
   "id": "0040b24e-0eb0-4576-b20e-c1d91299a3e0",
   "metadata": {},
   "outputs": [
    {
     "name": "stdout",
     "output_type": "stream",
     "text": [
      "111111-111111\n"
     ]
    }
   ],
   "source": [
    "print(s1.ident)"
   ]
  },
  {
   "cell_type": "code",
   "execution_count": 390,
   "id": "f6acac85-0a58-4abf-8c13-fdab2b1449ab",
   "metadata": {},
   "outputs": [],
   "source": [
    "class Student(Person):\n",
    "#-> Person 코드 다 집어넣었다\n",
    "\n",
    "    student_id = '123456'\n",
    "\n",
    "    def __init__(self, student_id):\n",
    "        self.student_id = student_id"
   ]
  },
  {
   "cell_type": "code",
   "execution_count": 394,
   "id": "0a494fdc-d16b-4b14-9d89-247c154bcc1d",
   "metadata": {},
   "outputs": [
    {
     "ename": "AttributeError",
     "evalue": "'Student' object has no attribute 'name'",
     "output_type": "error",
     "traceback": [
      "\u001b[1;31m---------------------------------------------------------------------------\u001b[0m",
      "\u001b[1;31mAttributeError\u001b[0m                            Traceback (most recent call last)",
      "Cell \u001b[1;32mIn[394], line 2\u001b[0m\n\u001b[0;32m      1\u001b[0m s1 \u001b[38;5;241m=\u001b[39m Student(\u001b[38;5;124m'\u001b[39m\u001b[38;5;124m6969495\u001b[39m\u001b[38;5;124m'\u001b[39m)\n\u001b[1;32m----> 2\u001b[0m \u001b[43ms1\u001b[49m\u001b[38;5;241;43m.\u001b[39;49m\u001b[43mgreeting\u001b[49m\u001b[43m(\u001b[49m\u001b[43m)\u001b[49m \u001b[38;5;66;03m#-> Person의 init 사라져서 name 사라짐 -> greeting에서 오류\u001b[39;00m\n",
      "Cell \u001b[1;32mIn[378], line 8\u001b[0m, in \u001b[0;36mPerson.greeting\u001b[1;34m(self)\u001b[0m\n\u001b[0;32m      7\u001b[0m \u001b[38;5;28;01mdef\u001b[39;00m \u001b[38;5;21mgreeting\u001b[39m(\u001b[38;5;28mself\u001b[39m):\n\u001b[1;32m----> 8\u001b[0m     \u001b[38;5;28mprint\u001b[39m(\u001b[38;5;124mf\u001b[39m\u001b[38;5;124m'\u001b[39m\u001b[38;5;124m안녕하세요. 저는 \u001b[39m\u001b[38;5;132;01m{\u001b[39;00m\u001b[38;5;28;43mself\u001b[39;49m\u001b[38;5;241;43m.\u001b[39;49m\u001b[43mname\u001b[49m\u001b[38;5;132;01m}\u001b[39;00m\u001b[38;5;124m입니다.\u001b[39m\u001b[38;5;124m'\u001b[39m)\n",
      "\u001b[1;31mAttributeError\u001b[0m: 'Student' object has no attribute 'name'"
     ]
    }
   ],
   "source": [
    "s1 = Student('6969495')\n",
    "s1.greeting() #-> Person의 init 사라져서 name 사라짐 -> greeting에서 오류"
   ]
  },
  {
   "cell_type": "code",
   "execution_count": 395,
   "id": "93146679-8ace-4799-9989-5fb4db243723",
   "metadata": {},
   "outputs": [],
   "source": [
    "class Person():\n",
    "    def __init__(self, name, email, phone, location):\n",
    "        self.name = name\n",
    "        self.email = email\n",
    "        self.phone = phone\n",
    "        self.location = location\n",
    "\n",
    "class Student(Person):\n",
    "    def __init__(self, student_id, name, email, phone, location):\n",
    "        self.student_id = student_id  #-> name, email....저장 못함\n",
    "        super().__init__(name, email, phone, location)  #-> 부모의 객체에서 가져오는 함수 super"
   ]
  },
  {
   "cell_type": "code",
   "execution_count": 396,
   "id": "fd6ae2f2-3106-4d4e-b41f-e03de3da1e31",
   "metadata": {},
   "outputs": [],
   "source": [
    "p1 = Person('hong', 'test@gmail.com', '010-123-123', 'seoul')"
   ]
  },
  {
   "cell_type": "code",
   "execution_count": 397,
   "id": "03d9bb39-4859-49ec-85fe-86adeca93a49",
   "metadata": {},
   "outputs": [],
   "source": [
    "s1 = Student('12312324', 'hong', 'test@gmail.com', '010-123-123', 'seoul')"
   ]
  },
  {
   "cell_type": "markdown",
   "id": "8c1d6aed-07bf-44e6-a552-2ecb56d426ae",
   "metadata": {},
   "source": [
    "## 다중상속"
   ]
  },
  {
   "cell_type": "code",
   "execution_count": 398,
   "id": "9822de3f-cf94-457a-9b81-6fe9cbe6591d",
   "metadata": {},
   "outputs": [],
   "source": [
    "class Person():\n",
    "    def __init__(self, name):\n",
    "        self.name = name\n",
    "    def breath():\n",
    "        print('후하')"
   ]
  },
  {
   "cell_type": "code",
   "execution_count": 399,
   "id": "d4ec4840-6ee8-4ff6-aa44-d1acfa32255f",
   "metadata": {},
   "outputs": [],
   "source": [
    "class Mom(Person):\n",
    "    gene = 'xx'\n",
    "\n",
    "    def swim(self):\n",
    "        print('어푸어푸')"
   ]
  },
  {
   "cell_type": "code",
   "execution_count": 400,
   "id": "bf297d1e-dd5d-4b86-82eb-6ca6377cc630",
   "metadata": {},
   "outputs": [],
   "source": [
    "class Dad(Person):\n",
    "    gene = 'xy'\n",
    "\n",
    "    def run(self):\n",
    "        print('다다다')"
   ]
  },
  {
   "cell_type": "code",
   "execution_count": 402,
   "id": "05df44b0-8a94-48bb-91b2-06c7a5d9e1ba",
   "metadata": {},
   "outputs": [],
   "source": [
    "class Baby(Mom, Dad):\n",
    "    pass"
   ]
  },
  {
   "cell_type": "code",
   "execution_count": 405,
   "id": "6b2d715f-e42d-414c-acf3-c0b4d1c54885",
   "metadata": {},
   "outputs": [
    {
     "name": "stdout",
     "output_type": "stream",
     "text": [
      "금쪽이\n",
      "다다다\n",
      "어푸어푸\n",
      "xx\n"
     ]
    }
   ],
   "source": [
    "b = Baby('금쪽이')\n",
    "print(b.name)\n",
    "\n",
    "b.run()\n",
    "b.swim()\n",
    "\n",
    "print(b.gene) #-> 무엇을 먼저 적었는지 (Mom, Dad)"
   ]
  },
  {
   "cell_type": "code",
   "execution_count": 1,
   "id": "191ab8a4-da5b-4427-b544-510c648d0367",
   "metadata": {},
   "outputs": [
    {
     "name": "stdout",
     "output_type": "stream",
     "text": [
      "꼬부기은 파이리에게 15.0의 공격을 했다.\n",
      "파이리은 꼬부기에게 20의 공격을 했다.\n",
      "꼬부기: 30\n",
      "파이리: 35.0\n",
      "꼬부기은 파이리에게 15.0의 공격을 했다.\n",
      "파이리은 꼬부기에게 20의 공격을 했다.\n",
      "꼬부기: 10\n",
      "파이리: 20.0\n",
      "꼬부기은 파이리에게 15.0의 공격을 했다.\n",
      "파이리은 꼬부기에게 20의 공격을 했다.\n",
      "꼬부기 승리\n"
     ]
    }
   ],
   "source": [
    "class Pocketmon():\n",
    "    def __init__(self, name):\n",
    "        self.name = name\n",
    "        self.level = 10\n",
    "        self.hp = self.level * 5\n",
    "        self.exp = 0\n",
    "\n",
    "    def attack(self, opponent):\n",
    "        damege = self.level\n",
    "        opponent.hp -= damege\n",
    "        if opponent.check_hp():\n",
    "            self.exp += 5\n",
    "\n",
    "    def check_hp(self):\n",
    "        return True if self.hp <= 0 else False\n",
    "\n",
    "    \n",
    "class WaterType():\n",
    "    type_name = 'water'\n",
    "\n",
    "class FireType():\n",
    "    type_name = 'fire'\n",
    "\n",
    "class WaterPocketmon(Pocketmon, WaterType):\n",
    "    def water_attack(self, opponent):\n",
    "        if opponent.type_name == 'fire':\n",
    "            damege = self.level * 1.5\n",
    "        else:\n",
    "            damege = self.level * 1.2\n",
    "        opponent.hp -= damege\n",
    "        print(f'{self.name}은 {opponent.name}에게 {damege}의 공격을 했다.')\n",
    "\n",
    "class FirePocketmon(Pocketmon, FireType):\n",
    "    def fire_attack(self, opponent):\n",
    "        damege = self.level * 2\n",
    "        opponent.hp -= damege\n",
    "        print(f'{self.name}은 {opponent.name}에게 {damege}의 공격을 했다.')\n",
    "\n",
    "\n",
    "koboki = WaterPocketmon('꼬부기')\n",
    "pairi = FirePocketmon('파이리')\n",
    "\n",
    "\n",
    "import random \n",
    "\n",
    "while not koboki.check_hp() or not pairi.check_hp():\n",
    "    random_attack = random.randint(0, 1)\n",
    "    \n",
    "    koboki.water_attack(pairi)\n",
    "    \n",
    "    if pairi.check_hp():\n",
    "        print(f'{pairi.name} 승리')\n",
    "        break\n",
    "\n",
    "    random_attack = random.randint(0, 1)\n",
    "    pairi.fire_attack(koboki)\n",
    "    \n",
    "    if koboki.check_hp():\n",
    "        print(f'{koboki.name} 승리')\n",
    "        break\n",
    "\n",
    "    \n",
    "    print(f'{koboki.name}: {koboki.hp}')\n",
    "    print(f'{pairi.name}: {pairi.hp}')"
   ]
  },
  {
   "cell_type": "code",
   "execution_count": 3,
   "id": "dbba0b59-ae6d-4360-9156-1112db694be0",
   "metadata": {},
   "outputs": [
    {
     "name": "stdout",
     "output_type": "stream",
     "text": [
      "삐까츄은 꼬부기에게 20.0의 공격을 했다.\n",
      "삐까츄은 파이리에게 20.0의 공격을 했다.\n",
      "꼬부기은 파이리에게 15.0의 공격을 당했다!!!!\n",
      "꼬부기은 삐까츄에게 12.0의 공격을 당했다!!!!\n",
      "파이리은 꼬부기에게 20의 공격을 당했다!!!!\n",
      "파이리은 삐까츄에게 20의 공격을 당했다!!!!\n",
      "꼬부기: 10.0\n",
      "파이리: 15.0\n",
      "삐까츄: 18.0\n",
      "삐까츄은 꼬부기에게 20.0의 공격을 했다.\n",
      "삐까츄은 파이리에게 20.0의 공격을 했다.\n",
      "꼬부기은 파이리에게 15.0의 공격을 당했다!!!!\n",
      "파이리 승리\n"
     ]
    }
   ],
   "source": [
    "class Pocketmon():\n",
    "    def __init__(self, name):\n",
    "        self.name = name\n",
    "        self.level = 10\n",
    "        self.hp = self.level * 5\n",
    "        self.exp = 0\n",
    "\n",
    "    def attack(self, op):\n",
    "        damage = self.level\n",
    "        op.hp -= damege\n",
    "        if op.check_hp():\n",
    "            self.exp += 5\n",
    "\n",
    "    def check_hp(self):\n",
    "        return True if self.hp <= 0 else False\n",
    "\n",
    "class WaterType():\n",
    "    type_name = 'water'\n",
    "\n",
    "class FireType():\n",
    "    type_name = 'fire'\n",
    "\n",
    "class WaterPocketmon(Pocketmon, WaterType): #다중상속\n",
    "    def water_attack(self, op):\n",
    "        if op.type_name == 'fire':\n",
    "            damege = self.level * 1.5\n",
    "        else:\n",
    "            damege = self.level * 1.2\n",
    "        op.hp -= damege\n",
    "        print(f'{self.name}은 {op.name}에게 {damege}의 공격을 당했다!!!!')\n",
    "        \n",
    "class FirePocketmon(Pocketmon, FireType): #다중상속\n",
    "    def fire_attack(self, op):\n",
    "        damege = self.level * 2\n",
    "        op.hp -= damege\n",
    "        print(f'{self.name}은 {op.name}에게 {damege}의 공격을 당했다!!!!')\n",
    "\n",
    "koboki = WaterPocketmon('꼬부기')\n",
    "pairi = FirePocketmon('파이리')\n",
    "\n",
    "class ElecType():\n",
    "    type_name = 'elec'\n",
    "\n",
    "class ElecPocketmon(Pocketmon, ElecType):\n",
    "    def elec_attack(self, op):\n",
    "        damege = self.level * 2.\n",
    "        op.hp -= damege\n",
    "        print(f'{self.name}은 {op.name}에게 {damege}의 공격을 했다.')\n",
    "\n",
    "bbika = ElecPocketmon('삐까츄')\n",
    "\n",
    "import random\n",
    "\n",
    "while not koboki.check_hp() or not pairi.check_hp() or not bbika.check.hp():\n",
    "    random_attack = random.randint(0,1)\n",
    "    bbika.elec_attack(koboki)\n",
    "\n",
    "    if bbika.check_hp():\n",
    "        print(f'{koboki.name} 승리')\n",
    "        break\n",
    "\n",
    "    random_attack = random.randint(0,1)\n",
    "    bbika.elec_attack(pairi)\n",
    "\n",
    "    if bbika.check_hp():\n",
    "        print(f'{pairi.name} 승리')\n",
    "        break\n",
    "    \n",
    "    \n",
    "    random_attack = random.randint(0,1)\n",
    "    koboki.water_attack(pairi)\n",
    "\n",
    "    if pairi.check_hp():\n",
    "        print(f'{pairi.name} 승리')\n",
    "        break\n",
    "\n",
    "    random_attack = random.randint(0,1)\n",
    "    koboki.water_attack(bbika)\n",
    "\n",
    "    if pairi.check_hp():\n",
    "        print(f'{bbika.name} 승리')\n",
    "        break\n",
    "\n",
    "    random_attack = random.randint(0,1)\n",
    "    pairi.fire_attack(koboki)\n",
    "\n",
    "    if koboki.check_hp():\n",
    "        print(f'{koboki.name} 승리')\n",
    "        break\n",
    "\n",
    "    random_attack = random.randint(0,1)\n",
    "    pairi.fire_attack(bbika)\n",
    "\n",
    "    if koboki.check_hp():\n",
    "        print(f'{bbika.name} 승리')\n",
    "        break\n",
    "\n",
    "\n",
    "    print(f'{koboki.name}: {koboki.hp}')\n",
    "    print(f'{pairi.name}: {pairi.hp}')\n",
    "    print(f'{bbika.name}: {bbika.hp}')"
   ]
  },
  {
   "cell_type": "code",
   "execution_count": null,
   "id": "12b3d8dc-51d2-4ff0-9fc7-539ecda0bd98",
   "metadata": {},
   "outputs": [],
   "source": []
  }
 ],
 "metadata": {
  "kernelspec": {
   "display_name": "Python 3 (ipykernel)",
   "language": "python",
   "name": "python3"
  },
  "language_info": {
   "codemirror_mode": {
    "name": "ipython",
    "version": 3
   },
   "file_extension": ".py",
   "mimetype": "text/x-python",
   "name": "python",
   "nbconvert_exporter": "python",
   "pygments_lexer": "ipython3",
   "version": "3.12.4"
  }
 },
 "nbformat": 4,
 "nbformat_minor": 5
}
