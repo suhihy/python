{
 "cells": [
  {
   "cell_type": "markdown",
   "id": "9ca1fc29-a962-41ec-acb1-208c319f89d5",
   "metadata": {},
   "source": [
    "# 함수(function)"
   ]
  },
  {
   "cell_type": "code",
   "execution_count": 1,
   "id": "6ef1845d-96b1-402b-be38-475681916807",
   "metadata": {},
   "outputs": [
    {
     "name": "stdout",
     "output_type": "stream",
     "text": [
      "사각형의 넓이는 1500고, 둘레는 160입니다.\n"
     ]
    }
   ],
   "source": [
    "height = 50\n",
    "width = 30\n",
    "\n",
    "area = height * width\n",
    "perimeter = (height + width) * 2\n",
    "\n",
    "print(f'사각형의 넓이는 {area}고, 둘레는 {perimeter}입니다.')"
   ]
  },
  {
   "cell_type": "markdown",
   "id": "8030b159-680f-406e-9236-950a09df7b58",
   "metadata": {},
   "source": [
    "## 함수의 선언과 호출\n",
    "\n",
    "- 함수의 선언\n",
    "\n",
    "```python\n",
    "def func_name(parameter1, parameter2....#여러개 들어오기 가능):\n",
    "    code1\n",
    "    code2\n",
    "    ...\n",
    "    return value #output, 반환한다\n",
    "```\n",
    "\n",
    "- 함수의 호출(실행)\n",
    "\n",
    "```python\n",
    "func_name(parameter1, parameter2...)  #소괄호가 열리는 순간 함수가 실행됨, 닫히면 실행 끝. value라는 값 가지게 됨\n",
    "```"
   ]
  },
  {
   "cell_type": "code",
   "execution_count": 3,
   "id": "5afbc33c-93f8-4fe9-9176-d534ebf4a23a",
   "metadata": {},
   "outputs": [],
   "source": [
    "def rectangle(height, width):\n",
    "    area = height * width\n",
    "    perimeter = (height + width) * 2\n",
    "    print(area, perimeter)"
   ]
  },
  {
   "cell_type": "code",
   "execution_count": 7,
   "id": "e3393dad-052d-4c2a-a49b-88c9e5581bc6",
   "metadata": {},
   "outputs": [
    {
     "name": "stdout",
     "output_type": "stream",
     "text": [
      "20000 600\n",
      "250000 2000\n",
      "50 30\n",
      "4842000 11684\n"
     ]
    }
   ],
   "source": [
    "rectangle(100, 200)\n",
    "rectangle(500, 500)\n",
    "rectangle(5, 10)\n",
    "rectangle(1000, 4842)\n",
    "\n",
    "#재사용을 위해 함수 사용!"
   ]
  },
  {
   "cell_type": "code",
   "execution_count": 9,
   "id": "68de5a7b-657d-4532-9371-a4bd41ebed1e",
   "metadata": {},
   "outputs": [
    {
     "data": {
      "text/plain": [
       "['ArithmeticError',\n",
       " 'AssertionError',\n",
       " 'AttributeError',\n",
       " 'BaseException',\n",
       " 'BaseExceptionGroup',\n",
       " 'BlockingIOError',\n",
       " 'BrokenPipeError',\n",
       " 'BufferError',\n",
       " 'BytesWarning',\n",
       " 'ChildProcessError',\n",
       " 'ConnectionAbortedError',\n",
       " 'ConnectionError',\n",
       " 'ConnectionRefusedError',\n",
       " 'ConnectionResetError',\n",
       " 'DeprecationWarning',\n",
       " 'EOFError',\n",
       " 'Ellipsis',\n",
       " 'EncodingWarning',\n",
       " 'EnvironmentError',\n",
       " 'Exception',\n",
       " 'ExceptionGroup',\n",
       " 'False',\n",
       " 'FileExistsError',\n",
       " 'FileNotFoundError',\n",
       " 'FloatingPointError',\n",
       " 'FutureWarning',\n",
       " 'GeneratorExit',\n",
       " 'IOError',\n",
       " 'ImportError',\n",
       " 'ImportWarning',\n",
       " 'IndentationError',\n",
       " 'IndexError',\n",
       " 'InterruptedError',\n",
       " 'IsADirectoryError',\n",
       " 'KeyError',\n",
       " 'KeyboardInterrupt',\n",
       " 'LookupError',\n",
       " 'MemoryError',\n",
       " 'ModuleNotFoundError',\n",
       " 'NameError',\n",
       " 'None',\n",
       " 'NotADirectoryError',\n",
       " 'NotImplemented',\n",
       " 'NotImplementedError',\n",
       " 'OSError',\n",
       " 'OverflowError',\n",
       " 'PendingDeprecationWarning',\n",
       " 'PermissionError',\n",
       " 'ProcessLookupError',\n",
       " 'RecursionError',\n",
       " 'ReferenceError',\n",
       " 'ResourceWarning',\n",
       " 'RuntimeError',\n",
       " 'RuntimeWarning',\n",
       " 'StopAsyncIteration',\n",
       " 'StopIteration',\n",
       " 'SyntaxError',\n",
       " 'SyntaxWarning',\n",
       " 'SystemError',\n",
       " 'SystemExit',\n",
       " 'TabError',\n",
       " 'TimeoutError',\n",
       " 'True',\n",
       " 'TypeError',\n",
       " 'UnboundLocalError',\n",
       " 'UnicodeDecodeError',\n",
       " 'UnicodeEncodeError',\n",
       " 'UnicodeError',\n",
       " 'UnicodeTranslateError',\n",
       " 'UnicodeWarning',\n",
       " 'UserWarning',\n",
       " 'ValueError',\n",
       " 'Warning',\n",
       " 'WindowsError',\n",
       " 'ZeroDivisionError',\n",
       " '__IPYTHON__',\n",
       " '__build_class__',\n",
       " '__debug__',\n",
       " '__doc__',\n",
       " '__import__',\n",
       " '__loader__',\n",
       " '__name__',\n",
       " '__package__',\n",
       " '__spec__',\n",
       " 'abs',\n",
       " 'aiter',\n",
       " 'all',\n",
       " 'anext',\n",
       " 'any',\n",
       " 'ascii',\n",
       " 'bin',\n",
       " 'bool',\n",
       " 'breakpoint',\n",
       " 'bytearray',\n",
       " 'bytes',\n",
       " 'callable',\n",
       " 'chr',\n",
       " 'classmethod',\n",
       " 'compile',\n",
       " 'complex',\n",
       " 'copyright',\n",
       " 'credits',\n",
       " 'delattr',\n",
       " 'dict',\n",
       " 'dir',\n",
       " 'display',\n",
       " 'divmod',\n",
       " 'enumerate',\n",
       " 'eval',\n",
       " 'exec',\n",
       " 'execfile',\n",
       " 'filter',\n",
       " 'float',\n",
       " 'format',\n",
       " 'frozenset',\n",
       " 'get_ipython',\n",
       " 'getattr',\n",
       " 'globals',\n",
       " 'hasattr',\n",
       " 'hash',\n",
       " 'help',\n",
       " 'hex',\n",
       " 'id',\n",
       " 'input',\n",
       " 'int',\n",
       " 'isinstance',\n",
       " 'issubclass',\n",
       " 'iter',\n",
       " 'len',\n",
       " 'license',\n",
       " 'list',\n",
       " 'locals',\n",
       " 'map',\n",
       " 'max',\n",
       " 'memoryview',\n",
       " 'min',\n",
       " 'next',\n",
       " 'object',\n",
       " 'oct',\n",
       " 'open',\n",
       " 'ord',\n",
       " 'pow',\n",
       " 'print',\n",
       " 'property',\n",
       " 'range',\n",
       " 'repr',\n",
       " 'reversed',\n",
       " 'round',\n",
       " 'runfile',\n",
       " 'set',\n",
       " 'setattr',\n",
       " 'slice',\n",
       " 'sorted',\n",
       " 'staticmethod',\n",
       " 'str',\n",
       " 'sum',\n",
       " 'super',\n",
       " 'tuple',\n",
       " 'type',\n",
       " 'vars',\n",
       " 'zip']"
      ]
     },
     "execution_count": 9,
     "metadata": {},
     "output_type": "execute_result"
    }
   ],
   "source": [
    "dir(__builtins__)   #내장함수 built-in function"
   ]
  },
  {
   "cell_type": "code",
   "execution_count": 11,
   "id": "3c78a931-5349-4df3-ad4f-0010c63de143",
   "metadata": {},
   "outputs": [
    {
     "data": {
      "text/plain": [
       "4"
      ]
     },
     "execution_count": 11,
     "metadata": {},
     "output_type": "execute_result"
    }
   ],
   "source": [
    "max([1,2,3,4])"
   ]
  },
  {
   "cell_type": "code",
   "execution_count": 12,
   "id": "beba46ec-7f2b-422c-8227-4486ef070f55",
   "metadata": {},
   "outputs": [],
   "source": [
    "def my_max(num1, num2):\n",
    "    if num1 > num2:\n",
    "        print(num1)\n",
    "    elif num1 < num2:\n",
    "        print(num2)\n",
    "    else:\n",
    "        print(f'{num1}과 {num2}는 같다')"
   ]
  },
  {
   "cell_type": "code",
   "execution_count": 16,
   "id": "ddb37f7c-4551-4c49-ab64-c9b993e3a18d",
   "metadata": {},
   "outputs": [
    {
     "name": "stdout",
     "output_type": "stream",
     "text": [
      "5\n",
      "3\n",
      "4과 4는 같다\n"
     ]
    }
   ],
   "source": [
    "my_max(5,1)\n",
    "my_max(1,3)\n",
    "my_max(4,4)"
   ]
  },
  {
   "cell_type": "markdown",
   "id": "26373a6d-087b-422a-93ed-85d319443ad3",
   "metadata": {},
   "source": [
    "## 함수의 return\n",
    "\n",
    "- 함수가 return을 만나면 해당 값을 반환하고 함수를 종료\n",
    "- 만약 return이 없는 경우 None을 자동으로 반환\n",
    "- return은 오직 하나의 객체만 반환한다."
   ]
  },
  {
   "cell_type": "code",
   "execution_count": 18,
   "id": "654b92a0-1d76-44e9-99eb-642b1810f2f3",
   "metadata": {},
   "outputs": [
    {
     "name": "stdout",
     "output_type": "stream",
     "text": [
      "2\n",
      "None\n"
     ]
    }
   ],
   "source": [
    "result = my_max(1,2)\n",
    "print(result)"
   ]
  },
  {
   "cell_type": "code",
   "execution_count": 19,
   "id": "33faa2a3-9837-429a-91e5-1ebeae856e00",
   "metadata": {},
   "outputs": [],
   "source": [
    "def my_max2(num1, num2):\n",
    "    if num1 > num2:\n",
    "        return num1\n",
    "    elif num1 < num2:\n",
    "        return num2\n",
    "    else:\n",
    "        return num1"
   ]
  },
  {
   "cell_type": "code",
   "execution_count": 27,
   "id": "6acc44c7-db39-4096-b68e-7c0db77f3130",
   "metadata": {},
   "outputs": [
    {
     "data": {
      "text/plain": [
       "2"
      ]
     },
     "execution_count": 27,
     "metadata": {},
     "output_type": "execute_result"
    }
   ],
   "source": [
    "my_max2(1,2)  #print를 쓴 적이 없으니 출력이 안 되는 것이 맞음. 그런데 jupyther에서만 편의성을 위해 출력되는 것"
   ]
  },
  {
   "cell_type": "code",
   "execution_count": 28,
   "id": "1bad84e7-9d8b-4d58-a9a6-248cda21e0a2",
   "metadata": {},
   "outputs": [
    {
     "name": "stdout",
     "output_type": "stream",
     "text": [
      "2\n"
     ]
    }
   ],
   "source": [
    "my_max(1,2)"
   ]
  },
  {
   "cell_type": "code",
   "execution_count": 30,
   "id": "e8d8fdab-7939-4457-b162-75c07b37a8d7",
   "metadata": {},
   "outputs": [
    {
     "name": "stdout",
     "output_type": "stream",
     "text": [
      "2\n"
     ]
    }
   ],
   "source": [
    "result = my_max2(1,2)\n",
    "print(result)"
   ]
  },
  {
   "cell_type": "code",
   "execution_count": 39,
   "id": "afe3291e-5bfa-415c-828e-3879a1e28db6",
   "metadata": {},
   "outputs": [],
   "source": [
    "#ver1\n",
    "def my_list_max(list1, list2):\n",
    "    if sum(list1) > sum(list2):\n",
    "        return list1\n",
    "    else:\n",
    "        return list2"
   ]
  },
  {
   "cell_type": "code",
   "execution_count": 40,
   "id": "296fc541-70f5-424d-974b-be6f21b3bfab",
   "metadata": {},
   "outputs": [
    {
     "name": "stdout",
     "output_type": "stream",
     "text": [
      "[2, 3, 4]\n"
     ]
    }
   ],
   "source": [
    "result = my_list_max([1,2,3], [2,3,4])\n",
    "print(result)"
   ]
  },
  {
   "cell_type": "code",
   "execution_count": 41,
   "id": "e6f882b1-78a8-4614-96d2-4150ec320ddf",
   "metadata": {},
   "outputs": [],
   "source": [
    "#ver2\n",
    "def my_list_max(list1, list2):\n",
    "    result1 = 0\n",
    "    result2 = 0\n",
    "\n",
    "    for num in list1:\n",
    "        result1 += num\n",
    "\n",
    "    for num in list2:\n",
    "        result2 += num\n",
    "\n",
    "    if result1 > result2:\n",
    "        return list1\n",
    "    else:\n",
    "        return list2"
   ]
  },
  {
   "cell_type": "code",
   "execution_count": 42,
   "id": "e1dff711-59cf-45c4-bf57-7a4d76e139a4",
   "metadata": {},
   "outputs": [
    {
     "name": "stdout",
     "output_type": "stream",
     "text": [
      "[2, 3, 4]\n"
     ]
    }
   ],
   "source": [
    "result = my_list_max([1,2,3], [2,3,4])\n",
    "print(result)"
   ]
  },
  {
   "cell_type": "code",
   "execution_count": 46,
   "id": "78cba1f7-141d-4ded-a130-be9e2b8cb6fb",
   "metadata": {},
   "outputs": [
    {
     "data": {
      "text/plain": [
       "30"
      ]
     },
     "execution_count": 46,
     "metadata": {},
     "output_type": "execute_result"
    }
   ],
   "source": [
    "def my_def(x):\n",
    "    return x * 3 #첫 번째 return만 실행!!!! \n",
    "    return x * 2 #분기처리하고 상황에 따라 여러 return 가능 (if문 안에서 등)\n",
    "\n",
    "my_def(10)"
   ]
  },
  {
   "cell_type": "code",
   "execution_count": 49,
   "id": "b52ba672-f8f9-4411-ad9d-a98794805191",
   "metadata": {},
   "outputs": [
    {
     "data": {
      "text/plain": [
       "(10, 20)"
      ]
     },
     "execution_count": 49,
     "metadata": {},
     "output_type": "execute_result"
    }
   ],
   "source": [
    "def my_def2(x):\n",
    "    return x, x * 2  #tuple-> 자동으로 파이썬이 하나로 묶어줌\n",
    "\n",
    "my_def2(10)"
   ]
  },
  {
   "cell_type": "markdown",
   "id": "bd6e422a-8045-495f-9ef0-a538af6a2e7b",
   "metadata": {},
   "source": [
    "## 함수의 인수\n",
    "\n",
    "### 위치인수\n",
    "기본적으로 함수는 위치를 기준으로 인수를 판단합니다."
   ]
  },
  {
   "cell_type": "code",
   "execution_count": 50,
   "id": "2420eb99-0b16-4e6e-8422-0a94744d97f6",
   "metadata": {},
   "outputs": [],
   "source": [
    "def cylinder(r, h):\n",
    "    return 3.14 * r**2 * h"
   ]
  },
  {
   "cell_type": "code",
   "execution_count": 53,
   "id": "3d025115-1691-4f26-a4b6-3540a64069f7",
   "metadata": {},
   "outputs": [
    {
     "data": {
      "text/plain": [
       "785.0"
      ]
     },
     "execution_count": 53,
     "metadata": {},
     "output_type": "execute_result"
    }
   ],
   "source": [
    "cylinder(10, 5)\n",
    "cylinder(5, 10)  #둘은 완전히 다른 것. 앞에서부터 순서대로 재료 들어감"
   ]
  },
  {
   "cell_type": "markdown",
   "id": "3f0c82a2-b67b-4683-8c93-1765892940c5",
   "metadata": {},
   "source": [
    "### 기본값\n",
    "\n",
    "```python\n",
    "def func(p1=v1):             #v1 = 기본값\n",
    "    code\n",
    "    return\n",
    "```"
   ]
  },
  {
   "cell_type": "code",
   "execution_count": 54,
   "id": "047c4342-9735-4af3-a5b0-7edd11ce5c9c",
   "metadata": {},
   "outputs": [],
   "source": [
    "def greeting(name):\n",
    "    return f'{name}님 반갑습니다.'"
   ]
  },
  {
   "cell_type": "code",
   "execution_count": 56,
   "id": "973e2144-7f81-40d0-92ff-11ec5e74b95d",
   "metadata": {},
   "outputs": [
    {
     "data": {
      "text/plain": [
       "'홍길동님 반갑습니다.'"
      ]
     },
     "execution_count": 56,
     "metadata": {},
     "output_type": "execute_result"
    }
   ],
   "source": [
    "greeting('홍길동')"
   ]
  },
  {
   "cell_type": "code",
   "execution_count": 60,
   "id": "7d99796a-44fd-48de-93d8-39789291e9a0",
   "metadata": {},
   "outputs": [],
   "source": [
    "def greeting(name='익명'):\n",
    "    return f'{name}님 반갑습니다.'"
   ]
  },
  {
   "cell_type": "code",
   "execution_count": 61,
   "id": "18b3b8c6-cafe-4d16-863e-9f40cf9e4712",
   "metadata": {},
   "outputs": [
    {
     "data": {
      "text/plain": [
       "'익명님 반갑습니다.'"
      ]
     },
     "execution_count": 61,
     "metadata": {},
     "output_type": "execute_result"
    }
   ],
   "source": [
    "greeting()"
   ]
  },
  {
   "cell_type": "code",
   "execution_count": 66,
   "id": "3bd800fd-fd46-4567-b80d-fff34339ba2e",
   "metadata": {},
   "outputs": [
    {
     "name": "stdout",
     "output_type": "stream",
     "text": [
      "안녕하세요?저는 길동이에요!"
     ]
    }
   ],
   "source": [
    "print('안녕하세요', '저는 길동이에요', sep='?', end='!')  #sep='?' 통해서 원래 기본값 ^로 되어있는 것이 ?로 변경 end='!'는 문장 끝.ㄴ"
   ]
  },
  {
   "cell_type": "code",
   "execution_count": 67,
   "id": "e18544b0-a128-49c9-8322-af33b069ae83",
   "metadata": {},
   "outputs": [
    {
     "ename": "SyntaxError",
     "evalue": "parameter without a default follows parameter with a default (1497647282.py, line 1)",
     "output_type": "error",
     "traceback": [
      "\u001b[1;36m  Cell \u001b[1;32mIn[67], line 1\u001b[1;36m\u001b[0m\n\u001b[1;33m    def greeting(name='익명', age):\u001b[0m\n\u001b[1;37m                            ^\u001b[0m\n\u001b[1;31mSyntaxError\u001b[0m\u001b[1;31m:\u001b[0m parameter without a default follows parameter with a default\n"
     ]
    }
   ],
   "source": [
    "def greeting(name='익명', age):\n",
    "    return f'{name}님의 나이는 {age}입니다'"
   ]
  },
  {
   "cell_type": "code",
   "execution_count": 70,
   "id": "50a9aa15-493c-4413-8533-f71e1c3f60d4",
   "metadata": {},
   "outputs": [],
   "source": [
    "def greeting(age, name='익명'):\n",
    "    return f'{name}님의 나이는 {age}입니다'  #기본값을 뒤에 썼을 때 error X/ 위치인자와 기본값 인자 유의사항"
   ]
  },
  {
   "cell_type": "code",
   "execution_count": 71,
   "id": "3958f007-0443-4849-a97b-0d132ce539b4",
   "metadata": {},
   "outputs": [
    {
     "data": {
      "text/plain": [
       "'익명님의 나이는 10입니다'"
      ]
     },
     "execution_count": 71,
     "metadata": {},
     "output_type": "execute_result"
    }
   ],
   "source": [
    "greeting(10)"
   ]
  },
  {
   "cell_type": "code",
   "execution_count": 72,
   "id": "e62634fc-c7e8-4546-be36-9d646eec77d1",
   "metadata": {},
   "outputs": [
    {
     "data": {
      "text/plain": [
       "'길동님의 나이는 20입니다'"
      ]
     },
     "execution_count": 72,
     "metadata": {},
     "output_type": "execute_result"
    }
   ],
   "source": [
    "greeting(20, '길동')"
   ]
  },
  {
   "cell_type": "markdown",
   "id": "9812af26-60de-4ab0-ae6d-e8876eb6a233",
   "metadata": {},
   "source": [
    "### 키워드 인수\n",
    "함수를 호출(실행)할 때 내가 원하는 위치에 직접적으로 특정인자를 전달"
   ]
  },
  {
   "cell_type": "code",
   "execution_count": 75,
   "id": "0b055c39-afe9-401a-b8f6-3af59af394cc",
   "metadata": {},
   "outputs": [],
   "source": [
    "def greeting(age, name='익명'):\n",
    "    return f'{name}님의 나이는 {age}입니다.'"
   ]
  },
  {
   "cell_type": "code",
   "execution_count": 79,
   "id": "df5dbac5-7ea8-4626-b822-6e1a15bf25b6",
   "metadata": {},
   "outputs": [
    {
     "data": {
      "text/plain": [
       "'길동님의 나이는 10입니다.'"
      ]
     },
     "execution_count": 79,
     "metadata": {},
     "output_type": "execute_result"
    }
   ],
   "source": [
    "greeting(10)\n",
    "greeting(10, '길동')\n",
    "greeting(name='길동', age=10)  #위치와 상관없이 데이터를 강제로 해당하는 지점에 넣는 방법"
   ]
  },
  {
   "cell_type": "markdown",
   "id": "8c3ae2f4-1155-4318-91fb-30a837586c10",
   "metadata": {},
   "source": [
    "### 가변인자 리스트\n",
    "\n",
    "```python\n",
    "def func(*parms):\n",
    "    code...\n",
    "```"
   ]
  },
  {
   "cell_type": "code",
   "execution_count": 80,
   "id": "883f40ed-a282-46ca-95e4-3c8b09f0fe87",
   "metadata": {},
   "outputs": [
    {
     "name": "stdout",
     "output_type": "stream",
     "text": [
      "hi hello my name is\n"
     ]
    }
   ],
   "source": [
    "print('hi', 'hello', 'my', 'name', 'is')"
   ]
  },
  {
   "cell_type": "code",
   "execution_count": 81,
   "id": "2a2eaf0c-b952-4702-9bef-220ab677277d",
   "metadata": {},
   "outputs": [],
   "source": [
    "def my_print(*words):\n",
    "    print(words)"
   ]
  },
  {
   "cell_type": "code",
   "execution_count": 82,
   "id": "23811761-5852-4609-9ade-de03857d569a",
   "metadata": {},
   "outputs": [
    {
     "name": "stdout",
     "output_type": "stream",
     "text": [
      "('my', 'name', 'is')\n"
     ]
    }
   ],
   "source": [
    "my_print('my', 'name', 'is')"
   ]
  },
  {
   "cell_type": "code",
   "execution_count": 129,
   "id": "83d85042-44a4-49cb-8378-a86c96e7700b",
   "metadata": {},
   "outputs": [],
   "source": [
    "def my_max(*num):\n",
    "    max_num = num[0]\n",
    "\n",
    "    for n in num:\n",
    "        if n > max_num:\n",
    "            max_num = n\n",
    "    return max_num"
   ]
  },
  {
   "cell_type": "code",
   "execution_count": 130,
   "id": "124d5365-b6d7-4659-bca9-2a801da8b99f",
   "metadata": {},
   "outputs": [
    {
     "data": {
      "text/plain": [
       "8"
      ]
     },
     "execution_count": 130,
     "metadata": {},
     "output_type": "execute_result"
    }
   ],
   "source": [
    "my_max(2, 4, 5, 6, 8, 0)"
   ]
  },
  {
   "cell_type": "markdown",
   "id": "25472528-cc6e-4c65-be7f-79f780e3e0d6",
   "metadata": {},
   "source": [
    "### 정의되지 않은 키워드 인자 처리하기\n",
    "\n",
    "```python\n",
    "def func(**kwargs):\n",
    "    code...\n",
    "```"
   ]
  },
  {
   "cell_type": "code",
   "execution_count": 132,
   "id": "0d090692-cdf2-43fa-a972-ca395d98e24b",
   "metadata": {},
   "outputs": [
    {
     "name": "stdout",
     "output_type": "stream",
     "text": [
      "{'name': 'Hong', 'age': '11'}\n"
     ]
    }
   ],
   "source": [
    "info = {\n",
    "    'name': 'Hong',\n",
    "    'age': '11',\n",
    "}\n",
    "\n",
    "print(info)"
   ]
  },
  {
   "cell_type": "code",
   "execution_count": 133,
   "id": "270083f2-71fe-4bbe-9f88-f847ede2b8cf",
   "metadata": {},
   "outputs": [
    {
     "name": "stdout",
     "output_type": "stream",
     "text": [
      "{'name': 'hong', 'age': '11', 'lacation': 'seoul'}\n"
     ]
    }
   ],
   "source": [
    "info = dict(name='hong', age='11', lacation='seoul')\n",
    "print(info)"
   ]
  },
  {
   "cell_type": "code",
   "execution_count": 135,
   "id": "2c0af670-cb55-4827-a325-d9753f80fed7",
   "metadata": {},
   "outputs": [],
   "source": [
    "def my_dict(**kwargs):\n",
    "    print(kwargs)"
   ]
  },
  {
   "cell_type": "code",
   "execution_count": 136,
   "id": "8cc402ab-cd48-4f44-9dfe-64d359f7fc6c",
   "metadata": {},
   "outputs": [
    {
     "name": "stdout",
     "output_type": "stream",
     "text": [
      "{'asdf': '123', 'qwer': '456'}\n"
     ]
    }
   ],
   "source": [
    "my_dict(asdf='123', qwer='456')"
   ]
  },
  {
   "cell_type": "code",
   "execution_count": 139,
   "id": "4a46d0b8-62a3-4773-abdf-12cb40c0eba1",
   "metadata": {},
   "outputs": [],
   "source": [
    "def my_func(*datas, **kwargs):\n",
    "    print(datas)\n",
    "    print(kwargs)"
   ]
  },
  {
   "cell_type": "code",
   "execution_count": 140,
   "id": "7c0e1d90-25bc-49d3-b383-01df6ad18f92",
   "metadata": {},
   "outputs": [
    {
     "name": "stdout",
     "output_type": "stream",
     "text": [
      "(1, 'hello', [1, 2, 3], {})\n",
      "{'hello': 'hi', 'world': 123, 'hi': {}}\n"
     ]
    }
   ],
   "source": [
    "my_func(1, 'hello', [1,2,3], {}, hello='hi', world=123, hi={})"
   ]
  },
  {
   "cell_type": "markdown",
   "id": "6efd4584-ee40-482f-ba54-53ffbf99b4d3",
   "metadata": {},
   "source": [
    "### dictionary를 인자로 넣기(unpacking)"
   ]
  },
  {
   "cell_type": "code",
   "execution_count": 142,
   "id": "17c37d02-d16e-4a06-b938-f6569e8ec2cc",
   "metadata": {},
   "outputs": [],
   "source": [
    "def sign_up(username, pw, pw_conf):\n",
    "    if pw == pw_conf:\n",
    "        print(f'{username}님 회원가입을 환영합니다.')\n",
    "    else:\n",
    "        print('비밀번호가 일치하지 않습니다')"
   ]
  },
  {
   "cell_type": "code",
   "execution_count": 148,
   "id": "72e3a889-4d72-4f4b-83e5-76fae01da327",
   "metadata": {},
   "outputs": [
    {
     "name": "stdout",
     "output_type": "stream",
     "text": [
      "홍길동님 회원가입을 환영합니다.\n"
     ]
    }
   ],
   "source": [
    "sign_up('홍길동', 1234, 1234)"
   ]
  },
  {
   "cell_type": "code",
   "execution_count": 152,
   "id": "850f4034-c07e-4fef-b2f2-77f98dc84038",
   "metadata": {},
   "outputs": [
    {
     "name": "stdout",
     "output_type": "stream",
     "text": [
      "hong님 회원가입을 환영합니다.\n",
      "hong님 회원가입을 환영합니다.\n"
     ]
    }
   ],
   "source": [
    "user_info = {\n",
    "    'username' : 'hong',\n",
    "    'pw' : '1234',\n",
    "    'pw_conf' : '1234',\n",
    "}\n",
    "\n",
    "sign_up(**user_info)\n",
    "sign_up(username='hong', pw='1234', pw_conf='1234')  #두 가지가 같은 뜻~"
   ]
  },
  {
   "cell_type": "markdown",
   "id": "5c515445-dd90-43ff-8b37-9d40f94aaf4d",
   "metadata": {},
   "source": [
    "### lambda 표현식\n",
    "\n",
    "```python\n",
    "lambda parameter: expression\n",
    "```"
   ]
  },
  {
   "cell_type": "code",
   "execution_count": 153,
   "id": "5268f26d-723b-4d28-8e13-927303bba180",
   "metadata": {},
   "outputs": [],
   "source": [
    "def my_sum(num1, num2):\n",
    "    return num1 + num2"
   ]
  },
  {
   "cell_type": "code",
   "execution_count": 154,
   "id": "8c47726a-8c69-4c1a-a538-8c0e116318db",
   "metadata": {},
   "outputs": [
    {
     "data": {
      "text/plain": [
       "5"
      ]
     },
     "execution_count": 154,
     "metadata": {},
     "output_type": "execute_result"
    }
   ],
   "source": [
    "my_sum(1,4)"
   ]
  },
  {
   "cell_type": "code",
   "execution_count": 159,
   "id": "f1dcdcf8-5449-4572-bea5-18a023ca0277",
   "metadata": {},
   "outputs": [
    {
     "data": {
      "text/plain": [
       "3"
      ]
     },
     "execution_count": 159,
     "metadata": {},
     "output_type": "execute_result"
    }
   ],
   "source": [
    "(lambda num1, num2: num1 + num2)(1,2)"
   ]
  },
  {
   "cell_type": "markdown",
   "id": "3382370b-4252-4339-bd6c-262d8ebaab69",
   "metadata": {},
   "source": [
    "### 타입힌트"
   ]
  },
  {
   "cell_type": "code",
   "execution_count": 178,
   "id": "2e49162a-f4e9-4147-8f58-2403c3db5ab8",
   "metadata": {},
   "outputs": [],
   "source": [
    "def my_sum(a:int, b:int) -> int:   #친절한 설명이자 힌트\n",
    "    return a + b"
   ]
  },
  {
   "cell_type": "code",
   "execution_count": 179,
   "id": "56b73ed0-e8e1-4f5a-93d0-f74a8544a75e",
   "metadata": {},
   "outputs": [
    {
     "data": {
      "text/plain": [
       "3"
      ]
     },
     "execution_count": 179,
     "metadata": {},
     "output_type": "execute_result"
    }
   ],
   "source": [
    "my_sum(1, 2)"
   ]
  },
  {
   "cell_type": "markdown",
   "id": "c0fafa0f-73e9-47f8-b9e5-e55270757f9d",
   "metadata": {},
   "source": [
    "### 이름공간(scope)\n",
    "\n",
    "python에서 사용되는 이름들을 이름공간에 저장되어 있습니다.\n",
    "\n",
    "1. Local : 정의된 함수 내부\n",
    "2. Enclosed : 상위함수\n",
    "3. Global : 함수 밖\n",
    "4. Bulit-in : python이 기본적으로 가지고 있는 함수/ 변수"
   ]
  },
  {
   "cell_type": "code",
   "execution_count": 180,
   "id": "0e6ad00e-3a87-4fb7-af1d-883b2e4bfbbd",
   "metadata": {},
   "outputs": [
    {
     "name": "stdout",
     "output_type": "stream",
     "text": [
      "1\n"
     ]
    }
   ],
   "source": [
    "result = str(1)\n",
    "print(result)"
   ]
  },
  {
   "cell_type": "code",
   "execution_count": 183,
   "id": "95798d3b-2942-467e-a2f6-0335fa94f483",
   "metadata": {},
   "outputs": [],
   "source": [
    "del str"
   ]
  },
  {
   "cell_type": "code",
   "execution_count": 184,
   "id": "22cc07ff-8337-444d-bc96-44e13bc4f4d7",
   "metadata": {},
   "outputs": [
    {
     "name": "stdout",
     "output_type": "stream",
     "text": [
      "1\n"
     ]
    }
   ],
   "source": [
    "a = 1\n",
    "\n",
    "def local_scope(a):\n",
    "    return a\n",
    "\n",
    "print(a)"
   ]
  },
  {
   "cell_type": "code",
   "execution_count": 189,
   "id": "706a3412-a166-4c38-8924-0ab737067ce1",
   "metadata": {},
   "outputs": [
    {
     "data": {
      "text/plain": [
       "11"
      ]
     },
     "execution_count": 189,
     "metadata": {},
     "output_type": "execute_result"
    }
   ],
   "source": [
    "a = 10\n",
    "\n",
    "def global_scope():  #재료가 필요없는 함수\n",
    "    global a\n",
    "    a = a + 1\n",
    "    return a\n",
    "\n",
    "global_scope()"
   ]
  },
  {
   "cell_type": "markdown",
   "id": "dbb8d8fc-b514-4df0-9d90-b088941d2123",
   "metadata": {},
   "source": [
    "## 재귀\n",
    "\n",
    "재귀함수는 함수 내부에서 자기 자신을 호출하는 함수입니다."
   ]
  },
  {
   "cell_type": "markdown",
   "id": "eb2ba29e-381e-478c-b36d-54fa7505468d",
   "metadata": {},
   "source": [
    "n! = 1 * 2 * 3 * 4 *...n\n",
    "\n",
    "- 1! = 1\n",
    "- 2! = 1 * 2 = 1! * 2\n",
    "- n! = (n-1)! * n"
   ]
  },
  {
   "cell_type": "code",
   "execution_count": 191,
   "id": "e94d8657-153a-4d68-828b-d672de77879e",
   "metadata": {},
   "outputs": [
    {
     "data": {
      "text/plain": [
       "120"
      ]
     },
     "execution_count": 191,
     "metadata": {},
     "output_type": "execute_result"
    }
   ],
   "source": [
    "def fact(n):\n",
    "    if n == 1:\n",
    "        return 1\n",
    "    else:\n",
    "        return fact(n-1) * n\n",
    "\n",
    "fact(5)"
   ]
  },
  {
   "cell_type": "code",
   "execution_count": null,
   "id": "f929bf76-9636-4f0b-a13a-9131e2168225",
   "metadata": {},
   "outputs": [],
   "source": []
  }
 ],
 "metadata": {
  "kernelspec": {
   "display_name": "Python 3 (ipykernel)",
   "language": "python",
   "name": "python3"
  },
  "language_info": {
   "codemirror_mode": {
    "name": "ipython",
    "version": 3
   },
   "file_extension": ".py",
   "mimetype": "text/x-python",
   "name": "python",
   "nbconvert_exporter": "python",
   "pygments_lexer": "ipython3",
   "version": "3.12.4"
  }
 },
 "nbformat": 4,
 "nbformat_minor": 5
}
