{
 "cells": [
  {
   "cell_type": "code",
   "execution_count": 2,
   "id": "76dddf44-f702-42c4-8ab2-156851e553f1",
   "metadata": {},
   "outputs": [
    {
     "name": "stdout",
     "output_type": "stream",
     "text": [
      "['__add__', '__class__', '__contains__', '__delattr__', '__dir__', '__doc__', '__eq__', '__format__', '__ge__', '__getattribute__', '__getitem__', '__getnewargs__', '__getstate__', '__gt__', '__hash__', '__init__', '__init_subclass__', '__iter__', '__le__', '__len__', '__lt__', '__mod__', '__mul__', '__ne__', '__new__', '__reduce__', '__reduce_ex__', '__repr__', '__rmod__', '__rmul__', '__setattr__', '__sizeof__', '__str__', '__subclasshook__', 'capitalize', 'casefold', 'center', 'count', 'encode', 'endswith', 'expandtabs', 'find', 'format', 'format_map', 'index', 'isalnum', 'isalpha', 'isascii', 'isdecimal', 'isdigit', 'isidentifier', 'islower', 'isnumeric', 'isprintable', 'isspace', 'istitle', 'isupper', 'join', 'ljust', 'lower', 'lstrip', 'maketrans', 'partition', 'removeprefix', 'removesuffix', 'replace', 'rfind', 'rindex', 'rjust', 'rpartition', 'rsplit', 'rstrip', 'split', 'splitlines', 'startswith', 'strip', 'swapcase', 'title', 'translate', 'upper', 'zfill']\n"
     ]
    }
   ],
   "source": [
    "print(dir('hello'))"
   ]
  },
  {
   "cell_type": "markdown",
   "id": "f92a9cff-5ca9-4b9a-b14a-8fb6340ad9af",
   "metadata": {},
   "source": [
    "## 문자열 메소드"
   ]
  },
  {
   "cell_type": "code",
   "execution_count": 3,
   "id": "50b29b2f-d93e-4a3b-8df1-f214779f9f6c",
   "metadata": {},
   "outputs": [],
   "source": [
    "a = 'hello my name is hong'"
   ]
  },
  {
   "cell_type": "code",
   "execution_count": 4,
   "id": "a0bf8e64-8e0a-4ec6-8c36-c44d5623d8da",
   "metadata": {},
   "outputs": [
    {
     "name": "stdout",
     "output_type": "stream",
     "text": [
      "hello my name is hong\n"
     ]
    }
   ],
   "source": [
    "print(a)"
   ]
  },
  {
   "cell_type": "code",
   "execution_count": 5,
   "id": "12b10d2e-101d-41ea-873d-bbb16b742d7f",
   "metadata": {},
   "outputs": [
    {
     "ename": "TypeError",
     "evalue": "'str' object does not support item assignment",
     "output_type": "error",
     "traceback": [
      "\u001b[1;31m---------------------------------------------------------------------------\u001b[0m",
      "\u001b[1;31mTypeError\u001b[0m                                 Traceback (most recent call last)",
      "Cell \u001b[1;32mIn[5], line 1\u001b[0m\n\u001b[1;32m----> 1\u001b[0m \u001b[43ma\u001b[49m\u001b[43m[\u001b[49m\u001b[38;5;241;43m0\u001b[39;49m\u001b[43m]\u001b[49m \u001b[38;5;241m=\u001b[39m \u001b[38;5;124m'\u001b[39m\u001b[38;5;124mh\u001b[39m\u001b[38;5;124m'\u001b[39m\n",
      "\u001b[1;31mTypeError\u001b[0m: 'str' object does not support item assignment"
     ]
    }
   ],
   "source": [
    "a[0] = 'h'"
   ]
  },
  {
   "cell_type": "code",
   "execution_count": 8,
   "id": "7bb2cce2-ba1f-4209-af61-fda674ea76c4",
   "metadata": {},
   "outputs": [
    {
     "name": "stdout",
     "output_type": "stream",
     "text": [
      "Hello my name is hong\n"
     ]
    }
   ],
   "source": [
    "print(a.capitalize())"
   ]
  },
  {
   "cell_type": "code",
   "execution_count": 10,
   "id": "3982b773-16ab-4b7d-944b-86c6b69c3509",
   "metadata": {},
   "outputs": [
    {
     "data": {
      "text/plain": [
       "'hello my name is hong'"
      ]
     },
     "execution_count": 10,
     "metadata": {},
     "output_type": "execute_result"
    }
   ],
   "source": [
    "a.lower()"
   ]
  },
  {
   "cell_type": "code",
   "execution_count": 11,
   "id": "41293299-574a-4cba-8f19-5760bdc06f97",
   "metadata": {},
   "outputs": [],
   "source": [
    "a = a.upper()"
   ]
  },
  {
   "cell_type": "code",
   "execution_count": 12,
   "id": "b1333f6f-22bf-4f1d-b9d5-37838bcd67ce",
   "metadata": {},
   "outputs": [
    {
     "name": "stdout",
     "output_type": "stream",
     "text": [
      "HELLO MY NAME IS HONG\n"
     ]
    }
   ],
   "source": [
    "print(a)"
   ]
  },
  {
   "cell_type": "code",
   "execution_count": 13,
   "id": "a172caf7-4cd4-4326-93a5-8f9270a8a0d0",
   "metadata": {},
   "outputs": [
    {
     "name": "stdout",
     "output_type": "stream",
     "text": [
      "my!!!name!!!is\n"
     ]
    }
   ],
   "source": [
    "my_list = ['my', 'name', 'is']\n",
    "print('!!!'.join(my_list))"
   ]
  },
  {
   "cell_type": "code",
   "execution_count": 17,
   "id": "31a31c82-c070-4160-bfff-8774ee918947",
   "metadata": {},
   "outputs": [
    {
     "name": "stdout",
     "output_type": "stream",
     "text": [
      "hello\n",
      "hello\n",
      "hello---\n",
      "-----------hello\n"
     ]
    }
   ],
   "source": [
    "my_string = '                 hello  \\n      '\n",
    "print(my_string.strip())\n",
    "\n",
    "my_string2 = '-----------hello---'\n",
    "print(my_string2.strip('-'))\n",
    "print(my_string2.lstrip('-'))\n",
    "print(my_string2.rstrip('-'))"
   ]
  },
  {
   "cell_type": "code",
   "execution_count": 18,
   "id": "9c4d5c22-ac84-47db-8daa-0e325e2c9900",
   "metadata": {},
   "outputs": [
    {
     "data": {
      "text/plain": [
       "'w???ooooooooow'"
      ]
     },
     "execution_count": 18,
     "metadata": {},
     "output_type": "execute_result"
    }
   ],
   "source": [
    "a = 'woooooooooooow'\n",
    "a.replace('o', '?', 3)"
   ]
  },
  {
   "cell_type": "code",
   "execution_count": 22,
   "id": "b8c03ca6-ef83-4d81-add1-3b34cf6720d2",
   "metadata": {},
   "outputs": [
    {
     "name": "stdout",
     "output_type": "stream",
     "text": [
      "0\n",
      "3\n",
      "-1\n"
     ]
    }
   ],
   "source": [
    "a = 'apple'\n",
    "print(a.find('a'))\n",
    "print(a.find('l'))\n",
    "print(a.find('z'))"
   ]
  },
  {
   "cell_type": "code",
   "execution_count": 23,
   "id": "f35d02ab-cb83-4b10-aeb0-afb9a14d01e7",
   "metadata": {},
   "outputs": [
    {
     "name": "stdout",
     "output_type": "stream",
     "text": [
      "0\n",
      "1\n"
     ]
    },
    {
     "ename": "ValueError",
     "evalue": "substring not found",
     "output_type": "error",
     "traceback": [
      "\u001b[1;31m---------------------------------------------------------------------------\u001b[0m",
      "\u001b[1;31mValueError\u001b[0m                                Traceback (most recent call last)",
      "Cell \u001b[1;32mIn[23], line 4\u001b[0m\n\u001b[0;32m      2\u001b[0m \u001b[38;5;28mprint\u001b[39m(a\u001b[38;5;241m.\u001b[39mindex(\u001b[38;5;124m'\u001b[39m\u001b[38;5;124ma\u001b[39m\u001b[38;5;124m'\u001b[39m))\n\u001b[0;32m      3\u001b[0m \u001b[38;5;28mprint\u001b[39m(a\u001b[38;5;241m.\u001b[39mindex(\u001b[38;5;124m'\u001b[39m\u001b[38;5;124mp\u001b[39m\u001b[38;5;124m'\u001b[39m))\n\u001b[1;32m----> 4\u001b[0m \u001b[38;5;28mprint\u001b[39m(\u001b[43ma\u001b[49m\u001b[38;5;241;43m.\u001b[39;49m\u001b[43mindex\u001b[49m\u001b[43m(\u001b[49m\u001b[38;5;124;43m'\u001b[39;49m\u001b[38;5;124;43mz\u001b[39;49m\u001b[38;5;124;43m'\u001b[39;49m\u001b[43m)\u001b[49m)\n",
      "\u001b[1;31mValueError\u001b[0m: substring not found"
     ]
    }
   ],
   "source": [
    "a = 'apple'\n",
    "print(a.index('a'))\n",
    "print(a.index('p'))\n",
    "print(a.index('z'))"
   ]
  },
  {
   "cell_type": "code",
   "execution_count": 24,
   "id": "48ab5def-290a-4577-95ca-02cb6145242f",
   "metadata": {},
   "outputs": [
    {
     "data": {
      "text/plain": [
       "['my', 'name', 'is', 'hong']"
      ]
     },
     "execution_count": 24,
     "metadata": {},
     "output_type": "execute_result"
    }
   ],
   "source": [
    "a = 'my_name_is_hong'\n",
    "a.split('_')"
   ]
  },
  {
   "cell_type": "code",
   "execution_count": 25,
   "id": "7a2931ff-8863-4755-aa18-4c9e0bceba40",
   "metadata": {},
   "outputs": [
    {
     "data": {
      "text/plain": [
       "7"
      ]
     },
     "execution_count": 25,
     "metadata": {},
     "output_type": "execute_result"
    }
   ],
   "source": [
    "a = 'wooooooow'\n",
    "a.count('o')"
   ]
  },
  {
   "cell_type": "markdown",
   "id": "a3090bb6-c8f2-4865-9515-fb354064f44b",
   "metadata": {},
   "source": [
    "## 리스트 매소트"
   ]
  },
  {
   "cell_type": "code",
   "execution_count": 27,
   "id": "4758c68a-35d5-406a-b89a-ea75a43e90a8",
   "metadata": {},
   "outputs": [],
   "source": [
    "numbers = [1,4,3,6,8,9,3]"
   ]
  },
  {
   "cell_type": "code",
   "execution_count": 28,
   "id": "7dbc8258-04ec-475e-a62e-9e54bd270adf",
   "metadata": {},
   "outputs": [
    {
     "name": "stdout",
     "output_type": "stream",
     "text": [
      "[1, 4, 3, 6, 8, 9, 3, 10]\n"
     ]
    }
   ],
   "source": [
    "numbers.append(10)\n",
    "print(numbers)"
   ]
  },
  {
   "cell_type": "code",
   "execution_count": 30,
   "id": "5983d159-fb15-428c-afa3-204c9f6f2ecf",
   "metadata": {},
   "outputs": [
    {
     "name": "stdout",
     "output_type": "stream",
     "text": [
      "[1, 4, 3, 6, 8, 9, 3, 10, 99, 100]\n",
      "[1, 4, 3, 6, 8, 9, 3, 10, 99, 100, 99, 100]\n"
     ]
    }
   ],
   "source": [
    "a = [99,100]\n",
    "\n",
    "numbers.extend(a)\n",
    "print(numbers)\n",
    "numbers = numbers + a\n",
    "print(numbers)"
   ]
  },
  {
   "cell_type": "code",
   "execution_count": 31,
   "id": "225980a1-4272-434e-870d-44dcd1f539ef",
   "metadata": {},
   "outputs": [
    {
     "name": "stdout",
     "output_type": "stream",
     "text": [
      "[1, 4, 3, 6, 8, -10, 9, 3, 10, 99, 100, 99, 100]\n"
     ]
    }
   ],
   "source": [
    "numbers.insert(5,-10)\n",
    "print(numbers)"
   ]
  },
  {
   "cell_type": "code",
   "execution_count": 32,
   "id": "5296bb6e-45fc-4387-bfaf-f7a43348ca51",
   "metadata": {},
   "outputs": [
    {
     "name": "stdout",
     "output_type": "stream",
     "text": [
      "[1, 4, 3, 6, 8, 9, 3, 10, 99, 100, 99, 100]\n"
     ]
    }
   ],
   "source": [
    "numbers.remove(-10)\n",
    "print(numbers)"
   ]
  },
  {
   "cell_type": "code",
   "execution_count": 33,
   "id": "395198ef-ed2e-4f12-9185-7055d101bd90",
   "metadata": {},
   "outputs": [
    {
     "name": "stdout",
     "output_type": "stream",
     "text": [
      "[1, 4, 3, 6, 8, 9, 3, 10, 99, 100, 99] 100\n",
      "[4, 3, 6, 8, 9, 3, 10, 99, 100, 99] 1\n"
     ]
    }
   ],
   "source": [
    "result = numbers.pop()\n",
    "print(numbers, result)\n",
    "\n",
    "result = numbers.pop(0) #0번째 index값 할당\n",
    "print(numbers, result)"
   ]
  },
  {
   "cell_type": "code",
   "execution_count": 34,
   "id": "9b5e9a90-cc70-4ff8-a8e4-e7839f250ab0",
   "metadata": {},
   "outputs": [
    {
     "name": "stdout",
     "output_type": "stream",
     "text": [
      "[1, 2, 3, 3, 5, 7, 8]\n",
      "[5, 3, 7, 1, 8, 2, 3]\n"
     ]
    }
   ],
   "source": [
    "numbers = [5,3,7,1,8,2,3]\n",
    "\n",
    "print(sorted(numbers)) #순서대로\n",
    "print(numbers)"
   ]
  },
  {
   "cell_type": "code",
   "execution_count": 36,
   "id": "46cc6b6e-c7f1-4fd3-9cd5-e703ec426c76",
   "metadata": {},
   "outputs": [
    {
     "name": "stdout",
     "output_type": "stream",
     "text": [
      "['a', 'b', 'c', 'e', 'e', 'f']\n",
      "['가', '가', '나', '나', '라']\n"
     ]
    }
   ],
   "source": [
    "my_list = ['b', 'c', 'a', 'e', 'f', 'e']\n",
    "my_list.sort()\n",
    "print(my_list)\n",
    "\n",
    "my_kor = ['가', '나', '가', '라', '나']\n",
    "my_kor.sort()\n",
    "print(my_kor)"
   ]
  },
  {
   "cell_type": "code",
   "execution_count": 37,
   "id": "24aba927-d96d-4bfb-8b70-3a2d86356e79",
   "metadata": {},
   "outputs": [
    {
     "name": "stdout",
     "output_type": "stream",
     "text": [
      "[5, 3, 7, 1, 8, 2, 3]\n",
      "[3, 2, 8, 1, 7, 3, 5]\n"
     ]
    }
   ],
   "source": [
    "print(numbers)\n",
    "numbers.reverse()\n",
    "print(numbers)"
   ]
  },
  {
   "cell_type": "code",
   "execution_count": 41,
   "id": "72a3f3c2-e2e9-4c39-b828-c15fa534bc93",
   "metadata": {},
   "outputs": [
    {
     "name": "stdout",
     "output_type": "stream",
     "text": [
      "[3, 2, 8, 1, 7, 3, 5]\n",
      "3\n",
      "[5, 3, 7, 1, 8, 2, 3]\n"
     ]
    }
   ],
   "source": [
    "print(numbers)\n",
    "print(numbers[-2])\n",
    "print(numbers[::-1]) # ::-1 -> 뒤집어서 -1은 뒤에서 첫 번째"
   ]
  },
  {
   "cell_type": "markdown",
   "id": "28dc054f-cbc2-4d59-b8a6-9d23a0bf458f",
   "metadata": {},
   "source": [
    "## list copy"
   ]
  },
  {
   "cell_type": "code",
   "execution_count": 42,
   "id": "e748faff-3bac-4208-8137-b467580ec17a",
   "metadata": {},
   "outputs": [],
   "source": [
    "origin_list = [1, 2, 3]\n",
    "copy_list = origin_list"
   ]
  },
  {
   "cell_type": "code",
   "execution_count": 43,
   "id": "9ac8da45-f2d7-4088-8e36-724cc755905d",
   "metadata": {},
   "outputs": [
    {
     "name": "stdout",
     "output_type": "stream",
     "text": [
      "[1, 2, 3]\n",
      "[1, 2, 3]\n"
     ]
    }
   ],
   "source": [
    "print(origin_list)\n",
    "print(copy_list)"
   ]
  },
  {
   "cell_type": "code",
   "execution_count": 44,
   "id": "d5777fbc-457e-44b5-af0a-b5cb3e9aaa89",
   "metadata": {},
   "outputs": [],
   "source": [
    "origin_list[0] = 100"
   ]
  },
  {
   "cell_type": "code",
   "execution_count": 45,
   "id": "17d30d95-6308-4179-b8b8-7d2af719c13d",
   "metadata": {},
   "outputs": [
    {
     "name": "stdout",
     "output_type": "stream",
     "text": [
      "[100, 2, 3]\n",
      "[100, 2, 3]\n"
     ]
    }
   ],
   "source": [
    "print(origin_list)\n",
    "print(copy_list)"
   ]
  },
  {
   "cell_type": "code",
   "execution_count": 46,
   "id": "c714e600-6f06-4e5d-96e8-500b8f7a289b",
   "metadata": {},
   "outputs": [
    {
     "name": "stdout",
     "output_type": "stream",
     "text": [
      "[100, 2, 3]\n",
      "[1, 2, 3]\n"
     ]
    }
   ],
   "source": [
    "origin_list = [1, 2, 3]\n",
    "copy_list = origin_list[:]  #[:] = 슬라이싱/ 얕은 복사\n",
    "\n",
    "origin_list[0] = 100\n",
    "\n",
    "print(origin_list)\n",
    "print(copy_list)"
   ]
  },
  {
   "cell_type": "code",
   "execution_count": 47,
   "id": "e81daf16-d111-4d23-a015-98f6a9159df2",
   "metadata": {},
   "outputs": [
    {
     "name": "stdout",
     "output_type": "stream",
     "text": [
      "[100, 2, [300, 4]]\n",
      "[1, 2, [300, 4]]\n"
     ]
    }
   ],
   "source": [
    "origin_list = [         1,           2, [3, 4]      ]\n",
    "copy_list = origin_list[:]\n",
    "\n",
    "origin_list[0] = 100\n",
    "origin_list[2][0] = 300   #왜 얘만 바뀌지????\n",
    "\n",
    "print(origin_list)\n",
    "print(copy_list)"
   ]
  },
  {
   "cell_type": "code",
   "execution_count": 49,
   "id": "fc308dd2-7b7a-4502-bd44-71ba9fa68b8f",
   "metadata": {},
   "outputs": [
    {
     "name": "stdout",
     "output_type": "stream",
     "text": [
      "[100, 2, [300, 4]]\n",
      "[1, 2, [3, 4]]\n"
     ]
    }
   ],
   "source": [
    "import copy\n",
    "origin_list = [1, 2, [3, 4]]\n",
    "copy_list = copy.deepcopy(origin_list)\n",
    "\n",
    "origin_list[0] = 100\n",
    "origin_list[2][0] = 300\n",
    "\n",
    "print(origin_list)\n",
    "print(copy_list)"
   ]
  },
  {
   "cell_type": "code",
   "execution_count": null,
   "id": "b4a43182-5adc-4f66-84bc-3dd9997f22dd",
   "metadata": {},
   "outputs": [],
   "source": []
  },
  {
   "cell_type": "code",
   "execution_count": null,
   "id": "2702ea6d-f79a-4995-af08-c2b4003c488a",
   "metadata": {},
   "outputs": [],
   "source": []
  },
  {
   "cell_type": "code",
   "execution_count": null,
   "id": "11cb3f77-1912-4308-857d-e41a02bf8454",
   "metadata": {},
   "outputs": [],
   "source": []
  },
  {
   "cell_type": "code",
   "execution_count": null,
   "id": "7fabeb91-a474-4461-b196-2a5150ad3bf6",
   "metadata": {},
   "outputs": [],
   "source": []
  },
  {
   "cell_type": "code",
   "execution_count": null,
   "id": "fb01c5a7-aca0-4562-a4bb-9a2d921ae166",
   "metadata": {},
   "outputs": [],
   "source": []
  },
  {
   "cell_type": "code",
   "execution_count": 50,
   "id": "de00f343-8c6a-47e1-8bc8-d3e74ee64800",
   "metadata": {},
   "outputs": [
    {
     "name": "stdout",
     "output_type": "stream",
     "text": [
      "삐까츄은 꼬부기에게 20.0의 공격을 했다.\n",
      "삐까츄은 파이리에게 20.0의 공격을 했다.\n",
      "꼬부기은 파이리에게 15.0의 공격을 당했다!!!!\n",
      "꼬부기은 삐까츄에게 12.0의 공격을 당했다!!!!\n",
      "파이리은 꼬부기에게 20의 공격을 당했다!!!!\n",
      "파이리은 삐까츄에게 20의 공격을 당했다!!!!\n",
      "꼬부기: 10.0\n",
      "파이리: 15.0\n",
      "삐까츄: 18.0\n",
      "삐까츄은 꼬부기에게 20.0의 공격을 했다.\n",
      "삐까츄은 파이리에게 20.0의 공격을 했다.\n",
      "꼬부기은 파이리에게 15.0의 공격을 당했다!!!!\n",
      "파이리 승리\n"
     ]
    }
   ],
   "source": [
    "class Pocketmon():\n",
    "    def __init__(self, name):\n",
    "        self.name = name\n",
    "        self.level = 10\n",
    "        self.hp = self.level * 5\n",
    "        self.exp = 0\n",
    "\n",
    "    def attack(self, op):\n",
    "        damage = self.level\n",
    "        op.hp -= damege\n",
    "        if op.check_hp():\n",
    "            self.exp += 5\n",
    "\n",
    "    def check_hp(self):\n",
    "        return True if self.hp <= 0 else False\n",
    "\n",
    "class WaterType():\n",
    "    type_name = 'water'\n",
    "\n",
    "class FireType():\n",
    "    type_name = 'fire'\n",
    "\n",
    "class WaterPocketmon(Pocketmon, WaterType): #다중상속\n",
    "    def water_attack(self, op):\n",
    "        if op.type_name == 'fire':\n",
    "            damege = self.level * 1.5\n",
    "        else:\n",
    "            damege = self.level * 1.2\n",
    "        op.hp -= damege\n",
    "        print(f'{self.name}은 {op.name}에게 {damege}의 공격을 당했다!!!!')\n",
    "        \n",
    "class FirePocketmon(Pocketmon, FireType): #다중상속\n",
    "    def fire_attack(self, op):\n",
    "        damege = self.level * 2\n",
    "        op.hp -= damege\n",
    "        print(f'{self.name}은 {op.name}에게 {damege}의 공격을 당했다!!!!')\n",
    "\n",
    "koboki = WaterPocketmon('꼬부기')\n",
    "pairi = FirePocketmon('파이리')\n",
    "\n",
    "class ElecType():\n",
    "    type_name = 'elec'\n",
    "\n",
    "class ElecPocketmon(Pocketmon, ElecType):\n",
    "    def elec_attack(self, op):\n",
    "        damege = self.level * 2.\n",
    "        op.hp -= damege\n",
    "        print(f'{self.name}은 {op.name}에게 {damege}의 공격을 했다.')\n",
    "\n",
    "bbika = ElecPocketmon('삐까츄')\n",
    "\n",
    "import random\n",
    "\n",
    "while not koboki.check_hp() or not pairi.check_hp() or not bbika.check.hp():\n",
    "    random_attack = random.randint(0,1)\n",
    "    bbika.elec_attack(koboki)\n",
    "\n",
    "    if bbika.check_hp():\n",
    "        print(f'{koboki.name} 승리')\n",
    "        break\n",
    "\n",
    "    random_attack = random.randint(0,1)\n",
    "    bbika.elec_attack(pairi)\n",
    "\n",
    "    if bbika.check_hp():\n",
    "        print(f'{pairi.name} 승리')\n",
    "        break\n",
    "    \n",
    "    \n",
    "    random_attack = random.randint(0,1)\n",
    "    koboki.water_attack(pairi)\n",
    "\n",
    "    if pairi.check_hp():\n",
    "        print(f'{pairi.name} 승리')\n",
    "        break\n",
    "\n",
    "    random_attack = random.randint(0,1)\n",
    "    koboki.water_attack(bbika)\n",
    "\n",
    "    if pairi.check_hp():\n",
    "        print(f'{bbika.name} 승리')\n",
    "        break\n",
    "\n",
    "    random_attack = random.randint(0,1)\n",
    "    pairi.fire_attack(koboki)\n",
    "\n",
    "    if koboki.check_hp():\n",
    "        print(f'{koboki.name} 승리')\n",
    "        break\n",
    "\n",
    "    random_attack = random.randint(0,1)\n",
    "    pairi.fire_attack(bbika)\n",
    "\n",
    "    if koboki.check_hp():\n",
    "        print(f'{bbika.name} 승리')\n",
    "        break\n",
    "\n",
    "\n",
    "    print(f'{koboki.name}: {koboki.hp}')\n",
    "    print(f'{pairi.name}: {pairi.hp}')\n",
    "    print(f'{bbika.name}: {bbika.hp}')"
   ]
  },
  {
   "cell_type": "code",
   "execution_count": null,
   "id": "94d076d5-80ff-473f-95f6-b7c32e611550",
   "metadata": {},
   "outputs": [],
   "source": [
    "class Person():\n",
    "    "
   ]
  }
 ],
 "metadata": {
  "kernelspec": {
   "display_name": "Python 3 (ipykernel)",
   "language": "python",
   "name": "python3"
  },
  "language_info": {
   "codemirror_mode": {
    "name": "ipython",
    "version": 3
   },
   "file_extension": ".py",
   "mimetype": "text/x-python",
   "name": "python",
   "nbconvert_exporter": "python",
   "pygments_lexer": "ipython3",
   "version": "3.12.4"
  }
 },
 "nbformat": 4,
 "nbformat_minor": 5
}
