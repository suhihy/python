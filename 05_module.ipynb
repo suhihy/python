{
 "cells": [
  {
   "cell_type": "markdown",
   "id": "1f1fd0b3-e9b6-47a5-8223-08d2a69b59be",
   "metadata": {},
   "source": [
    "# 모듈"
   ]
  },
  {
   "cell_type": "code",
   "execution_count": 1,
   "id": "2545a38d-b000-46bb-830d-36474d6d3733",
   "metadata": {},
   "outputs": [],
   "source": [
    "import fact"
   ]
  },
  {
   "cell_type": "code",
   "execution_count": 2,
   "id": "c541121c-c0ec-4bfe-8ac6-c22301fd1cdc",
   "metadata": {},
   "outputs": [
    {
     "name": "stdout",
     "output_type": "stream",
     "text": [
      "<module 'fact' from 'C:\\\\Users\\\\2-15\\\\Desktop\\\\DMF\\\\python\\\\fact.py'>\n"
     ]
    }
   ],
   "source": [
    "print(fact)"
   ]
  },
  {
   "cell_type": "code",
   "execution_count": 3,
   "id": "78b9b1bb-0589-4723-b392-e83b0bbf5bf4",
   "metadata": {},
   "outputs": [
    {
     "name": "stdout",
     "output_type": "stream",
     "text": [
      "120\n"
     ]
    }
   ],
   "source": [
    "print(fact.fact(5))"
   ]
  },
  {
   "cell_type": "code",
   "execution_count": 4,
   "id": "e1229ef4-8135-4008-80cc-fc6105c236b9",
   "metadata": {},
   "outputs": [
    {
     "name": "stdout",
     "output_type": "stream",
     "text": [
      "4\n"
     ]
    }
   ],
   "source": [
    "print(fact.my_max(2,4))"
   ]
  },
  {
   "cell_type": "code",
   "execution_count": 5,
   "id": "8980c84f-f5a9-4835-84d7-1efa0c9ad156",
   "metadata": {},
   "outputs": [],
   "source": [
    "#print(fact.my_number)"
   ]
  },
  {
   "cell_type": "code",
   "execution_count": 6,
   "id": "277099de-6a83-4133-bb41-fb2cd2a9d80b",
   "metadata": {},
   "outputs": [
    {
     "data": {
      "text/plain": [
       "['__builtins__',\n",
       " '__cached__',\n",
       " '__doc__',\n",
       " '__file__',\n",
       " '__loader__',\n",
       " '__name__',\n",
       " '__package__',\n",
       " '__spec__',\n",
       " 'fact',\n",
       " 'my_max',\n",
       " 'my_number']"
      ]
     },
     "execution_count": 6,
     "metadata": {},
     "output_type": "execute_result"
    }
   ],
   "source": [
    "dir(fact)"
   ]
  },
  {
   "cell_type": "markdown",
   "id": "551b89fc-f507-47ef-ad94-b4c39a895251",
   "metadata": {},
   "source": [
    "# 패키지\n",
    "\n",
    "```\n",
    "myPackage/\n",
    "    _init__.py\n",
    "    math\n",
    "        __init__.py\n",
    "```\n",
    "\n",
    "패키지 안에 <__init__.py> 파일이 존재해야만 패키지로 인식"
   ]
  },
  {
   "cell_type": "code",
   "execution_count": 7,
   "id": "602325fe-fa24-4305-8578-fb66f5d0d64c",
   "metadata": {},
   "outputs": [],
   "source": [
    "import myPackage"
   ]
  },
  {
   "cell_type": "code",
   "execution_count": 8,
   "id": "d73a1363-23ac-4b8f-9bd9-301f59105f3d",
   "metadata": {},
   "outputs": [
    {
     "name": "stdout",
     "output_type": "stream",
     "text": [
      "<module 'myPackage' from 'C:\\\\Users\\\\2-15\\\\Desktop\\\\DMF\\\\python\\\\myPackage\\\\__init__.py'>\n"
     ]
    }
   ],
   "source": [
    "print(myPackage)"
   ]
  },
  {
   "cell_type": "code",
   "execution_count": 9,
   "id": "97e0633e-ed3c-41a5-a138-ca30b0cf9434",
   "metadata": {},
   "outputs": [],
   "source": [
    "import myPackage"
   ]
  },
  {
   "cell_type": "code",
   "execution_count": 10,
   "id": "bb2fa413-6bd3-4af6-bcb0-d94429ec5931",
   "metadata": {},
   "outputs": [],
   "source": [
    "from myPackage.math import fomula"
   ]
  },
  {
   "cell_type": "code",
   "execution_count": 11,
   "id": "863fe56b-0032-4b45-94fa-f3851c8d59b3",
   "metadata": {},
   "outputs": [
    {
     "data": {
      "text/plain": [
       "2"
      ]
     },
     "execution_count": 11,
     "metadata": {},
     "output_type": "execute_result"
    }
   ],
   "source": [
    "fomula.my_max(1, 2)"
   ]
  },
  {
   "cell_type": "code",
   "execution_count": 12,
   "id": "7d8e6af4-3052-4ad1-ad8c-64d3ce1618ec",
   "metadata": {},
   "outputs": [
    {
     "data": {
      "text/plain": [
       "3.14"
      ]
     },
     "execution_count": 12,
     "metadata": {},
     "output_type": "execute_result"
    }
   ],
   "source": [
    "fomula.pi"
   ]
  },
  {
   "cell_type": "code",
   "execution_count": 13,
   "id": "f665552c-e475-46dd-9dca-04674fc6e1cd",
   "metadata": {},
   "outputs": [
    {
     "name": "stdout",
     "output_type": "stream",
     "text": [
      "2\n",
      "3.14\n"
     ]
    }
   ],
   "source": [
    "from myPackage.math.fomula import my_max, fact, pi\n",
    "\n",
    "print(my_max(1, 2))\n",
    "print(pi)"
   ]
  },
  {
   "cell_type": "code",
   "execution_count": 14,
   "id": "f208ffca-4ebe-4114-bc57-620d7b59bfa4",
   "metadata": {},
   "outputs": [
    {
     "name": "stdout",
     "output_type": "stream",
     "text": [
      "3.14\n"
     ]
    }
   ],
   "source": [
    "from myPackage.math.fomula import *  # * = 모든 경우의 수 다 포함\n",
    "print(pi)"
   ]
  },
  {
   "cell_type": "code",
   "execution_count": 15,
   "id": "e83c0e9e-ae4f-426c-889a-258134841766",
   "metadata": {},
   "outputs": [
    {
     "name": "stdout",
     "output_type": "stream",
     "text": [
      "1234\n",
      "1234\n",
      "<module 'myPackage.math.fomula' from 'C:\\\\Users\\\\2-15\\\\Desktop\\\\DMF\\\\python\\\\myPackage\\\\math\\\\fomula.py'>\n"
     ]
    }
   ],
   "source": [
    "fomula = 1234\n",
    "print(fomula)\n",
    "from myPackage.math import fomula as f     #as = 코드에서 별명 지어주는 것\n",
    "print(fomula)\n",
    "print(f)"
   ]
  },
  {
   "cell_type": "markdown",
   "id": "596a8d81-626e-4594-8123-e4537d819a2e",
   "metadata": {},
   "source": [
    "# 파이썬 내장 패키지"
   ]
  },
  {
   "cell_type": "markdown",
   "id": "42c0ce20-728b-4f7e-977a-1e25af1a77ec",
   "metadata": {},
   "source": [
    "## math"
   ]
  },
  {
   "cell_type": "code",
   "execution_count": 16,
   "id": "50bf4cba-5acf-4345-9e1f-b52bd414052b",
   "metadata": {},
   "outputs": [],
   "source": [
    "import math"
   ]
  },
  {
   "cell_type": "code",
   "execution_count": 17,
   "id": "155b3a33-823a-4fa0-a5cb-2bec5b86c26f",
   "metadata": {},
   "outputs": [
    {
     "data": {
      "text/plain": [
       "3.141592653589793"
      ]
     },
     "execution_count": 17,
     "metadata": {},
     "output_type": "execute_result"
    }
   ],
   "source": [
    "math.pi"
   ]
  },
  {
   "cell_type": "code",
   "execution_count": 18,
   "id": "d3476dfb-53f4-4fa1-999d-09c468e19b60",
   "metadata": {},
   "outputs": [
    {
     "data": {
      "text/plain": [
       "2.718281828459045"
      ]
     },
     "execution_count": 18,
     "metadata": {},
     "output_type": "execute_result"
    }
   ],
   "source": [
    "math.e"
   ]
  },
  {
   "cell_type": "code",
   "execution_count": 19,
   "id": "cf8fa86b-c6b0-4188-9f03-6f3927e44236",
   "metadata": {},
   "outputs": [
    {
     "data": {
      "text/plain": [
       "4"
      ]
     },
     "execution_count": 19,
     "metadata": {},
     "output_type": "execute_result"
    }
   ],
   "source": [
    "math.ceil(math.pi) #ceil함수 = 올림"
   ]
  },
  {
   "cell_type": "code",
   "execution_count": 20,
   "id": "88a66a5a-4349-4c2a-bcdc-cae8f4a3d486",
   "metadata": {},
   "outputs": [
    {
     "data": {
      "text/plain": [
       "3"
      ]
     },
     "execution_count": 20,
     "metadata": {},
     "output_type": "execute_result"
    }
   ],
   "source": [
    "math.floor(math.pi) #내림"
   ]
  },
  {
   "cell_type": "code",
   "execution_count": 21,
   "id": "16d2ce25-46e3-4dba-b534-c7dda9169986",
   "metadata": {},
   "outputs": [
    {
     "data": {
      "text/plain": [
       "3.0"
      ]
     },
     "execution_count": 21,
     "metadata": {},
     "output_type": "execute_result"
    }
   ],
   "source": [
    "math.sqrt(9) #루트"
   ]
  },
  {
   "cell_type": "code",
   "execution_count": 22,
   "id": "269c0b91-9eff-4434-9a92-ce2c0a078afe",
   "metadata": {},
   "outputs": [
    {
     "data": {
      "text/plain": [
       "3628800"
      ]
     },
     "execution_count": 22,
     "metadata": {},
     "output_type": "execute_result"
    }
   ],
   "source": [
    "math.factorial(10) #팩토리얼"
   ]
  },
  {
   "cell_type": "markdown",
   "id": "a749c86d-4bcf-4788-8f15-fecce09e1fca",
   "metadata": {},
   "source": [
    "## random"
   ]
  },
  {
   "cell_type": "code",
   "execution_count": 23,
   "id": "190a5dee-4853-4380-9a4d-9c38ffb8b166",
   "metadata": {},
   "outputs": [],
   "source": [
    "import random"
   ]
  },
  {
   "cell_type": "code",
   "execution_count": 24,
   "id": "462144e8-7351-4ab0-9fd5-df43d3248772",
   "metadata": {},
   "outputs": [
    {
     "data": {
      "text/plain": [
       "0.9164373050549719"
      ]
     },
     "execution_count": 24,
     "metadata": {},
     "output_type": "execute_result"
    }
   ],
   "source": [
    "random.random()"
   ]
  },
  {
   "cell_type": "code",
   "execution_count": 25,
   "id": "58d1732b-dba7-416a-9297-2efb8e02a73a",
   "metadata": {},
   "outputs": [
    {
     "data": {
      "text/plain": [
       "1"
      ]
     },
     "execution_count": 25,
     "metadata": {},
     "output_type": "execute_result"
    }
   ],
   "source": [
    "random.randint(1,10)"
   ]
  },
  {
   "cell_type": "code",
   "execution_count": 26,
   "id": "78d59fbc-1aa7-45f0-af02-b8d2a15f7629",
   "metadata": {},
   "outputs": [
    {
     "data": {
      "text/plain": [
       "0.13436424411240122"
      ]
     },
     "execution_count": 26,
     "metadata": {},
     "output_type": "execute_result"
    }
   ],
   "source": [
    "random.seed(1) #seed = 시드값 고정 // 머신러닝에서 학습할 때 사용\n",
    "random.random()"
   ]
  },
  {
   "cell_type": "code",
   "execution_count": 27,
   "id": "9c8956da-c816-4203-bac8-ecb6c9078c5a",
   "metadata": {},
   "outputs": [
    {
     "name": "stdout",
     "output_type": "stream",
     "text": [
      "[4, 2, 5, 3, 1]\n"
     ]
    }
   ],
   "source": [
    "numbers = [1, 2, 3, 4, 5]\n",
    "\n",
    "random.shuffle(numbers)\n",
    "print(numbers)"
   ]
  },
  {
   "cell_type": "code",
   "execution_count": 28,
   "id": "4704e2d6-53a3-43b7-a554-4fbef91cc418",
   "metadata": {},
   "outputs": [
    {
     "name": "stdout",
     "output_type": "stream",
     "text": [
      "3\n",
      "3\n"
     ]
    }
   ],
   "source": [
    "print(random.choice(numbers))\n",
    "print(random.choice(numbers)) #숫자가 서로 같이 나올 때가 있음 = 복원 추출"
   ]
  },
  {
   "cell_type": "code",
   "execution_count": 29,
   "id": "f5ee86a7-6c76-4706-8357-7dc8d2e1864c",
   "metadata": {},
   "outputs": [
    {
     "data": {
      "text/plain": [
       "[3, 2]"
      ]
     },
     "execution_count": 29,
     "metadata": {},
     "output_type": "execute_result"
    }
   ],
   "source": [
    "random.sample(numbers, 2) #비복원 추출 => 무조건 여러 개 뽑는 것이 전제"
   ]
  },
  {
   "cell_type": "markdown",
   "id": "3050d83d-7e29-4aea-9892-6bdb5ce72dc3",
   "metadata": {},
   "source": [
    "## datetime"
   ]
  },
  {
   "cell_type": "code",
   "execution_count": 30,
   "id": "a89e9733-78d7-4eaf-9b9c-cd2edb11889a",
   "metadata": {},
   "outputs": [],
   "source": [
    "from datetime import datetime"
   ]
  },
  {
   "cell_type": "code",
   "execution_count": 31,
   "id": "6f140fe8-d729-4a82-9582-2f4d57910294",
   "metadata": {},
   "outputs": [
    {
     "data": {
      "text/plain": [
       "datetime.datetime(2024, 7, 2, 16, 39, 50, 812025)"
      ]
     },
     "execution_count": 31,
     "metadata": {},
     "output_type": "execute_result"
    }
   ],
   "source": [
    "datetime.now()"
   ]
  },
  {
   "cell_type": "code",
   "execution_count": 32,
   "id": "85e9e47d-9392-4d6e-8f21-0692f2b48f54",
   "metadata": {},
   "outputs": [
    {
     "data": {
      "text/plain": [
       "datetime.datetime(2024, 7, 2, 16, 39, 50, 819238)"
      ]
     },
     "execution_count": 32,
     "metadata": {},
     "output_type": "execute_result"
    }
   ],
   "source": [
    "datetime.today()"
   ]
  },
  {
   "cell_type": "code",
   "execution_count": 33,
   "id": "e785654c-add7-4cb3-87ba-4c18c645049f",
   "metadata": {},
   "outputs": [
    {
     "name": "stderr",
     "output_type": "stream",
     "text": [
      "C:\\Users\\2-15\\AppData\\Local\\Temp\\ipykernel_8988\\562305052.py:1: DeprecationWarning: datetime.datetime.utcnow() is deprecated and scheduled for removal in a future version. Use timezone-aware objects to represent datetimes in UTC: datetime.datetime.now(datetime.UTC).\n",
      "  datetime.utcnow()\n"
     ]
    },
    {
     "data": {
      "text/plain": [
       "datetime.datetime(2024, 7, 2, 7, 39, 50, 825142)"
      ]
     },
     "execution_count": 33,
     "metadata": {},
     "output_type": "execute_result"
    }
   ],
   "source": [
    "datetime.utcnow()\n",
    "#코드 수정 예정 미래버전 -> datetime.datetime.now(datetime.UTC)"
   ]
  },
  {
   "cell_type": "code",
   "execution_count": 34,
   "id": "42176a6c-abaf-4028-9796-58bed8ae84c2",
   "metadata": {},
   "outputs": [
    {
     "name": "stdout",
     "output_type": "stream",
     "text": [
      "2024-07-02 16:39:50.833344\n"
     ]
    },
    {
     "data": {
      "text/plain": [
       "'2024년 07일 02일'"
      ]
     },
     "execution_count": 34,
     "metadata": {},
     "output_type": "execute_result"
    }
   ],
   "source": [
    "now = datetime.now ()\n",
    "print(now)\n",
    "now.strftime('%Y년 %m일 %d일') #-> string 포맷팅"
   ]
  },
  {
   "cell_type": "code",
   "execution_count": 35,
   "id": "d9412b04-611b-4378-84f3-0cd2cb0e245d",
   "metadata": {},
   "outputs": [
    {
     "data": {
      "text/plain": [
       "2024"
      ]
     },
     "execution_count": 35,
     "metadata": {},
     "output_type": "execute_result"
    }
   ],
   "source": [
    "now.year"
   ]
  },
  {
   "cell_type": "code",
   "execution_count": 36,
   "id": "97e7db34-87ab-4d05-8d24-740758ae59de",
   "metadata": {},
   "outputs": [
    {
     "name": "stdout",
     "output_type": "stream",
     "text": [
      "2024-12-25 00:00:00\n"
     ]
    }
   ],
   "source": [
    "x_mas = datetime(2024, 12, 25)\n",
    "print(x_mas)"
   ]
  },
  {
   "cell_type": "code",
   "execution_count": 37,
   "id": "7984e29d-7f26-4b77-be44-ef1aaccf6b71",
   "metadata": {},
   "outputs": [],
   "source": [
    "from datetime import timedelta"
   ]
  },
  {
   "cell_type": "code",
   "execution_count": 38,
   "id": "8b4cf375-9202-478e-bce6-16fc484bdd6d",
   "metadata": {},
   "outputs": [
    {
     "ename": "NameError",
     "evalue": "name 'future' is not defined",
     "output_type": "error",
     "traceback": [
      "\u001b[1;31m---------------------------------------------------------------------------\u001b[0m",
      "\u001b[1;31mNameError\u001b[0m                                 Traceback (most recent call last)",
      "Cell \u001b[1;32mIn[38], line 1\u001b[0m\n\u001b[1;32m----> 1\u001b[0m x_mas \u001b[38;5;241m+\u001b[39m \u001b[43mfuture\u001b[49m\n",
      "\u001b[1;31mNameError\u001b[0m: name 'future' is not defined"
     ]
    }
   ],
   "source": [
    "x_mas + future"
   ]
  },
  {
   "cell_type": "code",
   "execution_count": null,
   "id": "ee587ecd-315a-41f9-b927-f28c8b1d7ec7",
   "metadata": {},
   "outputs": [],
   "source": [
    "new_year = datetime(2025, 1, 1)\n",
    "now = datetime.now()\n",
    "\n",
    "print(new_year - now)"
   ]
  },
  {
   "cell_type": "code",
   "execution_count": null,
   "id": "88382135-c4fe-453c-a78f-43c0c7170966",
   "metadata": {},
   "outputs": [],
   "source": [
    "now = datetime.now()\n",
    "d100 = timedelta(days=100)\n",
    "\n",
    "print(now + d100)"
   ]
  },
  {
   "cell_type": "code",
   "execution_count": null,
   "id": "bb95af4d-dea3-4c62-aaea-273f8f97695d",
   "metadata": {},
   "outputs": [],
   "source": [
    "from datetime import * # -> 개발자들은 * 사용하는 것 선호하지 않음\n",
    "datetime.now"
   ]
  },
  {
   "cell_type": "markdown",
   "id": "188d8f00-8201-402b-b5cd-251473ad5345",
   "metadata": {},
   "source": [
    "# 라이브러리"
   ]
  },
  {
   "cell_type": "code",
   "execution_count": null,
   "id": "a6545a53-09ac-4a3a-b94a-87fcf22b147e",
   "metadata": {},
   "outputs": [],
   "source": [
    "import requests"
   ]
  },
  {
   "cell_type": "code",
   "execution_count": null,
   "id": "4da52e16-60a0-4b6f-87f5-a97181e93640",
   "metadata": {
    "scrolled": true
   },
   "outputs": [],
   "source": [
    "r = requests.get('https://api.github.com/events') #get = 사이트 접속해서 데이터 취함\n",
    "print(r.text)"
   ]
  },
  {
   "cell_type": "code",
   "execution_count": null,
   "id": "ef94c5c6-8f8d-4c93-9cf6-777f07ec4f50",
   "metadata": {
    "scrolled": true
   },
   "outputs": [],
   "source": [
    "r = requests.get('https://www.naver.com') #get = 사이트 접속해서 데이터 취함\n",
    "print(r.text)"
   ]
  },
  {
   "cell_type": "code",
   "execution_count": null,
   "id": "61af7676-8389-431b-a1bc-4e3b833c11ec",
   "metadata": {
    "scrolled": true
   },
   "outputs": [],
   "source": [
    "payload = {'query' : '동아일보'}\n",
    "r = requests.get('https://search.naver.com/search.naver', params=payload)\n",
    "\n",
    "print(r.text)"
   ]
  },
  {
   "cell_type": "code",
   "execution_count": null,
   "id": "e976cab0-d2d9-4c34-9736-84d07ef59555",
   "metadata": {
    "scrolled": true
   },
   "outputs": [],
   "source": [
    "payload = {'q' : '동아일보'}\n",
    "r = requests.get('https://www.google.com/search', params = payload)\n",
    "\n",
    "print(r.text)\n",
    "print(type(r.text))\n",
    "#print(r.text['drwtNo1']"
   ]
  },
  {
   "cell_type": "code",
   "execution_count": null,
   "id": "4a1e767c-7e7d-44f9-8f33-291d53ffb3dc",
   "metadata": {},
   "outputs": [],
   "source": [
    "payload = {\n",
    "    'method' : 'getLottoNumber',\n",
    "    'drwNo' : 1126,\n",
    "}\n",
    "\n",
    "r = requests.get('https://www.dhlottery.co.kr/common.do', params=payload)\n",
    "\n",
    "lotto_dict = r.json()\n",
    "print(lotto_dict['drwtNo1'])\n",
    "print(lotto_dict['drwtNo2'])\n",
    "print(lotto_dict['drwtNo3'])\n",
    "print(lotto_dict['drwtNo4'])\n",
    "print(lotto_dict['drwtNo5'])\n"
   ]
  },
  {
   "cell_type": "code",
   "execution_count": null,
   "id": "3181e641-d451-4f2a-9d8d-6261f7e57b0d",
   "metadata": {},
   "outputs": [],
   "source": [
    "Lotto_URL = 'https://www.dhlottery.co.kr/common.do'\n",
    "\n",
    "payload = {\n",
    "    'method': 'getLottoNumber',\n",
    "    'drwNo': 1126,\n",
    "}\n",
    "r = requests.get(Lotto_URL, params=payload)\n",
    "lotto_dict = r.json()\n",
    "\n",
    "bonus = lotto_dict['bnusNo']\n",
    "\n",
    "num1 = [lotto_dict['drwtNo1'], lotto_dict['drwtNo2'],  lotto_dict['drwtNo3'], lotto_dict['drwtNo4'], lotto_dict['drwtNo5'], lotto_dict['drwtNo6']]\n",
    "print('이번주 당첨번호:', num1, 'BN:', bonus)\n",
    "\n",
    "numbers = range(1, 45)\n",
    "for i in range(1, 6):\n",
    "    print(f'{i}회차는: ', random.sample(numbers, 6))\n"
   ]
  },
  {
   "cell_type": "code",
   "execution_count": null,
   "id": "b60e4195-23c7-47ed-88a9-d3e998357033",
   "metadata": {},
   "outputs": [],
   "source": [
    "for i in range(1, 6):\n",
    "    random_list = random.sample(numbers, 6)\n",
    "    print(f'{i}회차는: ', random_list)\n",
    "    if len(set(num1) & set(random_list)) == 6:\n",
    "        print('1등')\n",
    "    elif len(set(num1) & set(random_list)) == 5:\n",
    "        if bonus in random_list:            \n",
    "            print('2등')\n",
    "        else:\n",
    "            print('3등')\n",
    "    elif len(set(num1) & set(random_list)) == 4:\n",
    "        print('4등')\n",
    "    elif len(set(num1) & set(random_list)) == 3:\n",
    "        print('5등')\n",
    "    else:\n",
    "        print('꽝')"
   ]
  },
  {
   "cell_type": "code",
   "execution_count": null,
   "id": "48dab5c6-baf8-40e7-9d81-3473b60d34b2",
   "metadata": {},
   "outputs": [],
   "source": [
    "#강사님 방식\n",
    "lucky_number = []\n",
    "bonus_number = lotto_dict['bnusNo']\n",
    "\n",
    "for key, value in lotto_dict.items():\n",
    "    if 'drwtNo' in key:\n",
    "        lucky_number.append(value)\n",
    "\n",
    "print(f'이번주 당첨번호 : {lucky_number}, BN: {bonus_number}')"
   ]
  },
  {
   "cell_type": "code",
   "execution_count": null,
   "id": "81e973b6-4c8e-437c-9d06-ff1cb28f2350",
   "metadata": {},
   "outputs": [],
   "source": [
    "from pprint import pprint\n",
    "pprint(my_numbers)\n",
    "\n",
    "for my_number in my_numbers.values():\n",
    "    my_number_set = set(my_number)\n",
    "    lucky_number_set = set(lucky_number)\n",
    "\n",
    "    match_count = len(my_number_set & lucky_number_set)\n",
    "    if match_count == 6:\n",
    "        print('1등! 10억')\n",
    "    elif match_count == 5 and (bonus_number in my_number):\n",
    "        print('2등! 2천만원')\n",
    "    elif match_count == 5:\n",
    "        print('3등! 3백만원')\n",
    "    elif match_count == 4:\n",
    "        print('4등! 4만원')\n",
    "    elif match_count == 3:\n",
    "        print('5등! 5천원')\n",
    "    else:\n",
    "        print('꽝')\n"
   ]
  },
  {
   "cell_type": "code",
   "execution_count": null,
   "id": "97030ae6-ba16-410a-948a-11b85bc0308b",
   "metadata": {},
   "outputs": [],
   "source": []
  },
  {
   "cell_type": "code",
   "execution_count": null,
   "id": "fc5fc82a-292a-4393-8b0b-f517f74c5f8e",
   "metadata": {},
   "outputs": [],
   "source": []
  }
 ],
 "metadata": {
  "kernelspec": {
   "display_name": "Python 3 (ipykernel)",
   "language": "python",
   "name": "python3"
  },
  "language_info": {
   "codemirror_mode": {
    "name": "ipython",
    "version": 3
   },
   "file_extension": ".py",
   "mimetype": "text/x-python",
   "name": "python",
   "nbconvert_exporter": "python",
   "pygments_lexer": "ipython3",
   "version": "3.12.4"
  }
 },
 "nbformat": 4,
 "nbformat_minor": 5
}
