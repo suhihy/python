{
 "cells": [
  {
   "cell_type": "markdown",
   "id": "5f9e0440-e8d9-42b9-aaff-8410b672f0c0",
   "metadata": {},
   "source": [
    "# 조건문\n",
    "\n",
    "## 조건문 (if문)\n",
    "\n",
    "1. if문은 반드시 일정한 참/거짓을 판단 할 수 있는 조건식과 함께 사용된다.\n",
    "- (if <조건식>:)\n",
    "2. <조건식> 참(True)인 경우 : 이후의 문장을 실행\n",
    "3. <조건식> 거짓(False)인 경우 else: 이후의 문장을 실행\n",
    "```\n",
    "if <조건식>:\n",
    "    if의 조건식이 참인 경우 실행\n",
    "else:\n",
    "    if의 조건식이 거짓인 경우 실행\n",
    "```"
   ]
  },
  {
   "cell_type": "code",
   "execution_count": null,
   "id": "f24f6832-b643-4ecc-8084-114a163f7ce0",
   "metadata": {},
   "outputs": [],
   "source": [
    "my_string = input()\n",
    "\n",
    "if my_string == '12/25':\n",
    "    print('크리스마스입니다.')\n",
    "else:\n",
    "    print('크리스마스가 아닙니다.')"
   ]
  },
  {
   "cell_type": "code",
   "execution_count": null,
   "id": "434af7fc-51a5-4e63-bdce-f3da884d1c05",
   "metadata": {},
   "outputs": [],
   "source": [
    "num = input('숫자를 입력해주세요.')\n",
    "\n",
    "result = int(num) % 2\n",
    "\n",
    "if bool(result):\n",
    "    print('홀수입니다.')\n",
    "else:\n",
    "    print('짝수입니다.')\n"
   ]
  },
  {
   "cell_type": "code",
   "execution_count": null,
   "id": "96104df2-45e1-4da1-8d05-90419de5efea",
   "metadata": {},
   "outputs": [],
   "source": [
    "num = int(input())\n",
    "\n",
    "if num % 2 == 1:\n",
    "    print('홀수입니다.')\n",
    "else:\n",
    "    print('짝수입니다.')"
   ]
  },
  {
   "cell_type": "code",
   "execution_count": null,
   "id": "0ab695df-d60f-43f7-b552-ba46f48e2659",
   "metadata": {},
   "outputs": [],
   "source": [
    "num = int(input())\n",
    "\n",
    "if num % 2 == 0:\n",
    "    print('짝수')\n",
    "else:\n",
    "    print('홀수')"
   ]
  },
  {
   "cell_type": "code",
   "execution_count": null,
   "id": "c8eed10c-0104-4db3-8052-94228f5bb28b",
   "metadata": {},
   "outputs": [],
   "source": [
    "num = int(input())\n",
    "\n",
    "if num % 2:              #if문에서는 boolean 자동으로 구별\n",
    "    print('홀수')\n",
    "else:\n",
    "    print('짝수')"
   ]
  },
  {
   "cell_type": "markdown",
   "id": "a9722267-acd3-41df-92aa-1c367a35d84c",
   "metadata": {},
   "source": [
    "### elif\n",
    "\n",
    "else와 if의 합성어\n",
    "\n",
    "```\n",
    "if <조건식>:\n",
    "    if 조건이 참인 경우\n",
    "elif <조건식>:\n",
    "    elif 조건식이 참인 경우 - 여러개 추가 작성 가능\n",
    "...\n",
    "else:\n",
    "    위의 조건식이 하나도 부합하지 않는 경우\n",
    "```"
   ]
  },
  {
   "cell_type": "code",
   "execution_count": null,
   "id": "62a6a988-06fd-4ac7-a438-9e3190cb570a",
   "metadata": {},
   "outputs": [],
   "source": [
    "score = int(input())"
   ]
  },
  {
   "cell_type": "code",
   "execution_count": null,
   "id": "223cff29-92b6-4594-b651-f5c0d807003b",
   "metadata": {},
   "outputs": [],
   "source": [
    "#90점 이상 A\n",
    "#80~89 B\n",
    "#70~79 C\n",
    "#나머지 F\n",
    "\n",
    "if score >= 90:\n",
    "    print('A')\n",
    "elif score >=80 and score <= 89:\n",
    "    print('B')\n",
    "elif 70 <= score <= 79:\n",
    "    print('C')\n",
    "else:\n",
    "    print('F')"
   ]
  },
  {
   "cell_type": "code",
   "execution_count": null,
   "id": "988f3c87-a00f-4299-8642-1d1b377123a6",
   "metadata": {},
   "outputs": [],
   "source": [
    "if score >= 90:\n",
    "    print('A') #점수가 85점인 경우 자동으로 False, 다음으로 넘어감/ 위에서 차곡차곡 검증하고 내려옴\n",
    "    if score >= 95:\n",
    "        print('참잘했어요.')\n",
    "elif score >= 80:\n",
    "    print('B')\n",
    "elif score >= 70:\n",
    "    print('C')\n",
    "else:\n",
    "    print('F')"
   ]
  },
  {
   "cell_type": "markdown",
   "id": "9c61fc26-d8d0-4cb2-b35c-e421d0e9b57b",
   "metadata": {},
   "source": [
    "### 조건표현식\n",
    "\n",
    "```\n",
    "true_value  if <조건식> else false_value\n",
    "```\n",
    "- 사용은 지양, 남의 코드 읽을 수는 있어야 함\n"
   ]
  },
  {
   "cell_type": "code",
   "execution_count": 2,
   "id": "0214aa68-e85f-4966-8abd-6a0497f56333",
   "metadata": {},
   "outputs": [
    {
     "name": "stdout",
     "output_type": "stream",
     "text": [
      "False\n"
     ]
    }
   ],
   "source": [
    "print('True') if 1 < 0 else print('False')"
   ]
  },
  {
   "cell_type": "code",
   "execution_count": 3,
   "id": "d0af5920-958a-471d-9d86-569fb3e33d85",
   "metadata": {},
   "outputs": [
    {
     "name": "stdout",
     "output_type": "stream",
     "text": [
      "True\n"
     ]
    }
   ],
   "source": [
    "if 1> 0:\n",
    "    print('True')\n",
    "else:\n",
    "    print('False')"
   ]
  },
  {
   "cell_type": "code",
   "execution_count": 4,
   "id": "057c5e90-0ae1-4545-a3a5-5b289d8b044e",
   "metadata": {},
   "outputs": [
    {
     "name": "stdout",
     "output_type": "stream",
     "text": [
      "5\n"
     ]
    }
   ],
   "source": [
    "num = 5\n",
    "value = num if num >=0 else 0\n",
    "print(value)"
   ]
  },
  {
   "cell_type": "code",
   "execution_count": 10,
   "id": "cd4bdf19-c5c6-4662-a6db-f873c27d5755",
   "metadata": {},
   "outputs": [
    {
     "name": "stdout",
     "output_type": "stream",
     "text": [
      "5\n"
     ]
    }
   ],
   "source": [
    "num = 5\n",
    "\n",
    "if num >=0:\n",
    "    value = num\n",
    "else:\n",
    "    value = 0\n",
    "print(value)"
   ]
  },
  {
   "cell_type": "code",
   "execution_count": 11,
   "id": "901c5f66-87c1-4feb-a0ca-5388ed6f3ebf",
   "metadata": {},
   "outputs": [
    {
     "name": "stdout",
     "output_type": "stream",
     "text": [
      "홀수\n"
     ]
    }
   ],
   "source": [
    "num = 3\n",
    "result = '홀수' if num % 2 else '짝수'\n",
    "print(result)"
   ]
  },
  {
   "cell_type": "markdown",
   "id": "e88c22cd-2843-441a-9703-a6bdb756945f",
   "metadata": {},
   "source": [
    "## 반복문\n",
    "\n",
    "### while문\n",
    "\n",
    "```\n",
    "while <조건식>:\n",
    "    실행할 코드\n",
    "```"
   ]
  },
  {
   "cell_type": "code",
   "execution_count": 14,
   "id": "4f88026e-b429-4fc1-a97f-74362d2f375d",
   "metadata": {},
   "outputs": [
    {
     "name": "stdout",
     "output_type": "stream",
     "text": [
      "0\n",
      "1\n",
      "2\n",
      "3\n",
      "4\n"
     ]
    }
   ],
   "source": [
    "a = 0\n",
    "\n",
    "while a < 5:\n",
    "    print(a)\n",
    "    a += 1           #a = a + 1"
   ]
  },
  {
   "cell_type": "code",
   "execution_count": 15,
   "id": "1f0d1d00-f0c9-4b53-83d0-639026bb4cca",
   "metadata": {},
   "outputs": [
    {
     "name": "stdout",
     "output_type": "stream",
     "text": [
      "안녕이라고 말해줘 dkfjk\n",
      "안녕이라고 말해줘 안녕\n"
     ]
    }
   ],
   "source": [
    "greeting = ''\n",
    "\n",
    "while greeting != '안녕': #!= 두 개가 같지 않나요? 물어보는 기호\n",
    "    greeting = input('안녕이라고 말해줘')"
   ]
  },
  {
   "cell_type": "markdown",
   "id": "7384ee20-5fba-4015-9d2c-f31b1aa9b5ef",
   "metadata": {},
   "source": [
    "### for\n",
    "\n",
    "정해진 범위 내의 반복\n",
    "```\n",
    "for variable(item) in sequence:\n",
    "    code\n",
    "```\n",
    "\n",
    "- sequence - list, string, tuple, range...4가지\n",
    "- sequence형 자료구조만 for문 가능! -> 순서대로 나열된 데이터구조"
   ]
  },
  {
   "cell_type": "code",
   "execution_count": 16,
   "id": "1fb0db39-d331-474c-a785-d1b9877fe590",
   "metadata": {},
   "outputs": [
    {
     "name": "stdout",
     "output_type": "stream",
     "text": [
      "1\n",
      "2\n",
      "3\n",
      "4\n",
      "5\n"
     ]
    }
   ],
   "source": [
    "numbers = [1,2,3,4,5]\n",
    "\n",
    "for number in numbers:     #list 자료구조에서는 문법에 안 맞아도 일단 s 붙이고 작성\n",
    "    print(number)"
   ]
  },
  {
   "cell_type": "code",
   "execution_count": 17,
   "id": "df21163c-0b98-4bf7-8995-0cb506b610fa",
   "metadata": {},
   "outputs": [
    {
     "name": "stdout",
     "output_type": "stream",
     "text": [
      "단어를 입력해주세요 apple\n"
     ]
    },
    {
     "name": "stdout",
     "output_type": "stream",
     "text": [
      "a\n",
      "p\n",
      "p\n",
      "l\n",
      "e\n"
     ]
    }
   ],
   "source": [
    "word = input('단어를 입력해주세요')\n",
    "\n",
    "for char in word:\n",
    "    print(char)"
   ]
  },
  {
   "cell_type": "code",
   "execution_count": 20,
   "id": "67bfb725-2bc7-4ea2-aaf2-e53001ca8474",
   "metadata": {},
   "outputs": [
    {
     "name": "stdout",
     "output_type": "stream",
     "text": [
      "0\n",
      "1\n",
      "2\n",
      "3\n",
      "4\n"
     ]
    }
   ],
   "source": [
    "for i in range(5):\n",
    "    print(i)\n",
    "\n",
    "#제일 많이 쓸 문장\n",
    "#i = 정수"
   ]
  },
  {
   "cell_type": "code",
   "execution_count": 22,
   "id": "20456d7a-b331-4602-b046-0e4d9de3ba9c",
   "metadata": {},
   "outputs": [
    {
     "name": "stdout",
     "output_type": "stream",
     "text": [
      "1\n",
      "2\n",
      "3\n",
      "4\n",
      "5\n"
     ]
    }
   ],
   "source": [
    "for i in (1,2,3,4,5):\n",
    "    print(i)"
   ]
  },
  {
   "cell_type": "code",
   "execution_count": 25,
   "id": "6906de37-4e1b-4162-85c7-bfd70a8d6648",
   "metadata": {},
   "outputs": [
    {
     "name": "stdout",
     "output_type": "stream",
     "text": [
      "1\n",
      "3\n",
      "5\n",
      "7\n",
      "9\n",
      "11\n",
      "13\n",
      "15\n",
      "17\n",
      "19\n",
      "21\n",
      "23\n",
      "25\n",
      "27\n",
      "29\n"
     ]
    }
   ],
   "source": [
    "#1~30까지 숫자들 중에서 홀수만 출력\n",
    "\n",
    "for i in range(31):\n",
    "    if i % 2:\n",
    "        print(i)"
   ]
  },
  {
   "cell_type": "code",
   "execution_count": 26,
   "id": "d5e23edd-fe20-4bd3-b00b-e2e25cdfb65b",
   "metadata": {},
   "outputs": [
    {
     "name": "stdout",
     "output_type": "stream",
     "text": [
      "1\n",
      "3\n",
      "5\n",
      "7\n",
      "9\n",
      "11\n",
      "13\n",
      "15\n",
      "17\n",
      "19\n",
      "21\n",
      "23\n",
      "25\n",
      "27\n",
      "29\n"
     ]
    }
   ],
   "source": [
    "numbers = range(1, 31)\n",
    "\n",
    "for number in numbers:\n",
    "    if number % 2:\n",
    "        print(number)"
   ]
  },
  {
   "cell_type": "code",
   "execution_count": 31,
   "id": "9f9e626e-fca5-4d0a-a489-b1fafa814da8",
   "metadata": {},
   "outputs": [
    {
     "name": "stdout",
     "output_type": "stream",
     "text": [
      "(0, '라면')\n",
      "(1, '김밥')\n",
      "(2, '백반')\n"
     ]
    }
   ],
   "source": [
    "menus = ['라면', '김밥', '백반']\n",
    "for menu in enumerate(menus):\n",
    "    print(menu)\n",
    "\n",
    "#enumerate() -> for문과 연계해서 씀/ index값!!!!"
   ]
  },
  {
   "cell_type": "code",
   "execution_count": 33,
   "id": "52bf526d-75ca-469d-8ad6-9dae1af73333",
   "metadata": {},
   "outputs": [
    {
     "name": "stdout",
     "output_type": "stream",
     "text": [
      "0\n",
      "라면\n",
      "1\n",
      "김밥\n",
      "2\n",
      "백반\n"
     ]
    }
   ],
   "source": [
    "for index, menu in enumerate(menus): #두 개의 변수를 각 사용할 수 있도록 (index, menu) 각각에 바로 대입됨\n",
    "    print(index)\n",
    "    print(menu)"
   ]
  },
  {
   "cell_type": "markdown",
   "id": "245e8847-0c2a-46ce-99a3-661490b282f8",
   "metadata": {},
   "source": [
    "### dictionary 반복\n",
    "\n",
    "1. for key in dict:\n",
    "2. for key in dict.keys():\n",
    "3. for value in dict.values():\n",
    "4. for key, value in dict.items():"
   ]
  },
  {
   "cell_type": "code",
   "execution_count": 1,
   "id": "9fbeb020-3e90-42d1-ba29-8258d447fabb",
   "metadata": {},
   "outputs": [],
   "source": [
    "info = {\n",
    "    'name' : 'gilding',\n",
    "    'location' : 'seoul',\n",
    "    'phone' : '010-1234-1234',\n",
    "    'age' : 20,\n",
    "\n",
    "}"
   ]
  },
  {
   "cell_type": "code",
   "execution_count": 5,
   "id": "433a80ec-fb85-4a95-8dd7-3a0f5ee54f95",
   "metadata": {},
   "outputs": [
    {
     "name": "stdout",
     "output_type": "stream",
     "text": [
      "name\n",
      "gilding\n",
      "location\n",
      "seoul\n",
      "phone\n",
      "010-1234-1234\n",
      "age\n",
      "20\n"
     ]
    }
   ],
   "source": [
    "for cat in info:\n",
    "    print(cat)         #value말고 key만 출력됨.\n",
    "    print(info[cat])   #value 출력"
   ]
  },
  {
   "cell_type": "code",
   "execution_count": 8,
   "id": "0dd2f465-432c-433d-b600-3cb42bec25fe",
   "metadata": {},
   "outputs": [
    {
     "name": "stdout",
     "output_type": "stream",
     "text": [
      "name\n",
      "gilding\n",
      "location\n",
      "seoul\n",
      "phone\n",
      "010-1234-1234\n",
      "age\n",
      "20\n"
     ]
    }
   ],
   "source": [
    "#info.keys() #=> dict_keys(['name', 'location', 'phone', 'age'])\n",
    "\n",
    "for key in info.keys():  #.keys는 method, 함수 - 앞에 있는 요소가 가지고 있는 기능을 수행한다는 뜻\n",
    "    print(key)\n",
    "    print(info[key])"
   ]
  },
  {
   "cell_type": "code",
   "execution_count": 40,
   "id": "b65a41b1-4135-4a96-9f69-5b64a1a69bba",
   "metadata": {},
   "outputs": [
    {
     "name": "stdout",
     "output_type": "stream",
     "text": [
      "gilding\n",
      "seoul\n",
      "010-1234-1234\n",
      "20\n"
     ]
    }
   ],
   "source": [
    "for value in info.values():\n",
    "    print(value)\n",
    "\n",
    "#value를 기준으로 key를 가져오는 것은 불가능(key에서 value는 가능)"
   ]
  },
  {
   "cell_type": "code",
   "execution_count": 10,
   "id": "bf16e581-f7c4-4e20-bd5b-ed99d23d2756",
   "metadata": {},
   "outputs": [
    {
     "name": "stdout",
     "output_type": "stream",
     "text": [
      "name gilding\n",
      "location seoul\n",
      "phone 010-1234-1234\n",
      "age 20\n"
     ]
    }
   ],
   "source": [
    "for key, value in info.items():\n",
    "    print(key, value)"
   ]
  },
  {
   "cell_type": "code",
   "execution_count": 11,
   "id": "c08a7eb4-627a-4f52-871d-15b188dff49f",
   "metadata": {},
   "outputs": [],
   "source": [
    "blood_type = {\n",
    "    'A' : 5,\n",
    "    'B' : 3,\n",
    "    'O' : 2,\n",
    "    'AB' : 2,\n",
    "    \n",
    "}"
   ]
  },
  {
   "cell_type": "code",
   "execution_count": 39,
   "id": "1e1a25c0-40a7-4d1f-8d86-4c6ff97fc95a",
   "metadata": {},
   "outputs": [
    {
     "name": "stdout",
     "output_type": "stream",
     "text": [
      "혈액형의 종류는 A B O AB 가 있습니다\n"
     ]
    }
   ],
   "source": [
    "#혈액형의 종류는 ??, ?? 입니다.\n",
    "\n",
    "print('혈액형의 종류는', end= ' ')   #end= ' ' = end=\\n\n",
    "for key in blood_type.keys():\n",
    "    print(key, end= ' ')\n",
    "print('가 있습니다')"
   ]
  },
  {
   "cell_type": "code",
   "execution_count": 29,
   "id": "0de533d7-9ed2-4d44-a5f1-0d6945e67d18",
   "metadata": {},
   "outputs": [
    {
     "name": "stdout",
     "output_type": "stream",
     "text": [
      "총 학생수는 12명입니다.\n"
     ]
    }
   ],
   "source": [
    "#총 학생수는 몇명입니다.\n",
    "\n",
    "result = 0\n",
    "for value in blood_type.values():\n",
    "    result = result + value\n",
    "\n",
    "print(f'총 학생수는 {result}명입니다.')"
   ]
  },
  {
   "cell_type": "markdown",
   "id": "a50e72a1-f51d-4c62-8d63-d5e35f972ab3",
   "metadata": {},
   "source": [
    "### break\n",
    "\n",
    "반복문을 종료시키는 키워드"
   ]
  },
  {
   "cell_type": "code",
   "execution_count": 31,
   "id": "3241f93c-43a0-4adc-bc69-8eadc74a6067",
   "metadata": {},
   "outputs": [
    {
     "name": "stdout",
     "output_type": "stream",
     "text": [
      "0\n",
      "1\n",
      "2\n",
      "3\n",
      "4\n",
      "5\n",
      "6\n",
      "7\n",
      "8\n",
      "9\n",
      "10\n"
     ]
    }
   ],
   "source": [
    "for i in range(100):\n",
    "    if i > 10:\n",
    "        break\n",
    "    print(i)\n",
    "    "
   ]
  },
  {
   "cell_type": "code",
   "execution_count": 37,
   "id": "263e244e-4027-4a11-bf27-3d5a5b9ad317",
   "metadata": {},
   "outputs": [
    {
     "name": "stdout",
     "output_type": "stream",
     "text": [
      "보리\n",
      "보리\n",
      "보리\n",
      "보리\n",
      "쌀\n",
      "잡았다\n"
     ]
    }
   ],
   "source": [
    "rice = ['보리', '보리', '보리', '보리', '쌀', '보리']\n",
    "\n",
    "for r in rice:\n",
    "    print(r)\n",
    "    if r == '쌀':\n",
    "        print('잡았다')\n",
    "        break #마지막 보리 출력 안 됨. 쌀 발견하고 반복문 종료."
   ]
  },
  {
   "cell_type": "code",
   "execution_count": 38,
   "id": "d6936a79-c593-4185-8f11-05a72412fcc8",
   "metadata": {},
   "outputs": [
    {
     "name": "stdout",
     "output_type": "stream",
     "text": [
      "보리\n",
      "보리\n",
      "보리\n",
      "보리\n",
      "잡았다\n"
     ]
    }
   ],
   "source": [
    "i = 0\n",
    "\n",
    "while True:\n",
    "    if rice[i] == '쌀':\n",
    "        print('잡았다')\n",
    "        break\n",
    "    print(rice[i])\n",
    "    i += 1\n"
   ]
  },
  {
   "cell_type": "markdown",
   "id": "462648c5-add1-4b00-be35-9acd3559124d",
   "metadata": {},
   "source": [
    "### continue\n",
    "\n",
    "continue 이후의 코드를 실행하지 않고 다음 반복을 진행\n",
    "- 쉽게 생각하면 skip"
   ]
  },
  {
   "cell_type": "code",
   "execution_count": 43,
   "id": "196896ef-3244-4ad3-821f-5fb695c831a5",
   "metadata": {},
   "outputs": [
    {
     "name": "stdout",
     "output_type": "stream",
     "text": [
      "0\n",
      "2\n",
      "4\n",
      "6\n",
      "8\n",
      "10\n",
      "12\n",
      "14\n",
      "16\n",
      "18\n"
     ]
    }
   ],
   "source": [
    "for i in range(20):\n",
    "    if i % 2:\n",
    "        continue #홀수면 스킵해. 밑에 코드 실행하지말고 위로 올라가서 다음 반복문으로 넘어가~라는 뜻\n",
    "    print(i)"
   ]
  },
  {
   "cell_type": "code",
   "execution_count": 46,
   "id": "4855a55f-5945-41a1-9d60-2e750a7f3ec6",
   "metadata": {},
   "outputs": [
    {
     "name": "stdout",
     "output_type": "stream",
     "text": [
      "83, 성인입니다\n",
      "38, 성인입니다\n",
      "45, 성인입니다\n"
     ]
    }
   ],
   "source": [
    "ages = {10, 20, 38, 83, 11, 13, 45}\n",
    "\n",
    "for age in ages:\n",
    "    if age <= 20:\n",
    "        continue\n",
    "    print(f'{age}, 성인입니다')"
   ]
  },
  {
   "cell_type": "markdown",
   "id": "05953d94-d414-49dd-b86f-9c6520210a32",
   "metadata": {},
   "source": [
    "### else\n",
    "\n",
    "else문은 끝까지 반복된 후 실행됩니다.\n",
    "- break를 만나지 않았을때 실행됩니다."
   ]
  },
  {
   "cell_type": "code",
   "execution_count": 48,
   "id": "58cd227e-588a-47f4-8d28-55044edbe656",
   "metadata": {},
   "outputs": [
    {
     "name": "stdout",
     "output_type": "stream",
     "text": [
      "0\n",
      "1\n",
      "2\n",
      "3\n",
      "4\n",
      "5\n"
     ]
    }
   ],
   "source": [
    "for i in range(10):\n",
    "    if i > 5:\n",
    "        break\n",
    "    print(i)\n",
    "else:\n",
    "    print('else입니다')"
   ]
  },
  {
   "cell_type": "markdown",
   "id": "ec02bc6e-6b6a-4417-931c-8a554f93dc82",
   "metadata": {},
   "source": [
    "### pass"
   ]
  },
  {
   "cell_type": "code",
   "execution_count": 49,
   "id": "43adcef6-3fca-401e-b4b5-f316aeddaecb",
   "metadata": {},
   "outputs": [],
   "source": [
    "if True:\n",
    "    pass  #임시로 코드 작성할 때"
   ]
  },
  {
   "cell_type": "markdown",
   "id": "26427f78-e7e1-47e6-b46a-872f14caaf05",
   "metadata": {},
   "source": [
    "### match\n",
    "\n",
    "```\n",
    "match value:\n",
    "    case 조건:\n",
    "        code\n",
    "    case 조건:\n",
    "        code\n",
    "    case _:\n",
    "        code\n",
    "```\n"
   ]
  },
  {
   "cell_type": "code",
   "execution_count": 53,
   "id": "063bca26-c67d-4188-8e9b-5aae0f51d145",
   "metadata": {},
   "outputs": [
    {
     "name": "stdout",
     "output_type": "stream",
     "text": [
      "bad\n"
     ]
    }
   ],
   "source": [
    "status = 404\n",
    "\n",
    "match status:\n",
    "    case 200:\n",
    "        print('ok')\n",
    "    case 404:\n",
    "        print('bad')\n",
    "    case _:\n",
    "        print('i dont know')"
   ]
  },
  {
   "cell_type": "code",
   "execution_count": null,
   "id": "9236c6d9-bb85-4f23-9946-1b15c6caddda",
   "metadata": {},
   "outputs": [],
   "source": []
  }
 ],
 "metadata": {
  "kernelspec": {
   "display_name": "Python 3 (ipykernel)",
   "language": "python",
   "name": "python3"
  },
  "language_info": {
   "codemirror_mode": {
    "name": "ipython",
    "version": 3
   },
   "file_extension": ".py",
   "mimetype": "text/x-python",
   "name": "python",
   "nbconvert_exporter": "python",
   "pygments_lexer": "ipython3",
   "version": "3.12.4"
  }
 },
 "nbformat": 4,
 "nbformat_minor": 5
}
